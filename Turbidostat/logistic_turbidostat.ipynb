{
 "cells": [
  {
   "cell_type": "code",
   "execution_count": 1,
   "metadata": {},
   "outputs": [],
   "source": [
    "import numpy as np\n",
    "import matplotlib.pyplot as plt\n",
    "import seaborn as sns\n",
    "from scipy.optimize import curve_fit\n",
    "from scipy.optimize import leastsq\n",
    "import pandas as pd\n",
    "from numba import jit\n",
    "from scipy.integrate import solve_ivp\n",
    "from scipy.optimize import curve_fit"
   ]
  },
  {
   "cell_type": "code",
   "execution_count": 2,
   "metadata": {},
   "outputs": [],
   "source": [
    "def num_derivative(x,t):\n",
    "    d = np.zeros(len(t)-1)\n",
    "    for i in range(len(t)-1):\n",
    "        d[i] = (x[i+1,0]-x[i,1])/(t[i+1]-t[i])\n",
    "    return d\n",
    "\n",
    "def clean_data(x_data,NT,col):\n",
    "    x_clean=np.delete(x_data,np.where(x_data[:,1]<0),axis=0)\n",
    "    fin_index = np.min(np.where(x_clean[:,col]>NT))\n",
    "    x = x_clean[:fin_index,1:]\n",
    "    t = x_clean[:fin_index,0]/60.0\n",
    "    return x,t\n",
    "\n",
    "def growth_rate1(t,q0):\n",
    "    g=0.0359\n",
    "    K=1.5355\n",
    "    N=x1[:len(t),1]\n",
    "    A=1./(1+(1./q0)*np.exp(-g*t))\n",
    "    B=g*(1-N/K)*N\n",
    "    return A*B\n",
    "\n",
    "def growth_rate2(t,q0):\n",
    "    g=0.0359\n",
    "    K=1.5355\n",
    "    N=x2[:len(t),1]\n",
    "    A=1./(1+(1./q0)*np.exp(-g*t))\n",
    "    B=g*(1-N/K)*N\n",
    "    return A*B\n",
    "\n",
    "def err1(q0, t, y):\n",
    "    return growth_rate1(t,q0) - y\n",
    "\n",
    "def err2(q0, t, y):\n",
    "    return growth_rate2(t,q0) - y\n",
    "\n",
    "\n",
    "def err_global(p, t1, t2, dx1, dx2):\n",
    "    er1 = err1(p, t1, dx1)\n",
    "    er2 = err2(p, t2, dx2)\n",
    "    return np.concatenate((er1, er2))\n",
    "\n",
    "\n",
    "def log_growth_rate1(t,q0):\n",
    "    g=0.0359\n",
    "    K=1.5355\n",
    "    N=x1[:len(t),1]\n",
    "    A=1./(1+(1./q0)*np.exp(-g*t))\n",
    "    B=g*(1-N/K)\n",
    "    return A*B\n",
    "\n",
    "def log_growth_rate2(t,q0):\n",
    "    g=0.0359\n",
    "    K=1.5355\n",
    "    N=x2[:len(t),1]\n",
    "    A=1./(1+(1./q0)*np.exp(-g*t))\n",
    "    B=g*(1-N/K)\n",
    "    return A*B\n",
    "\n",
    "def log_err1(q0, t, y):\n",
    "    return log_growth_rate1(t,q0) - y\n",
    "\n",
    "def log_err2(q0, t, y):\n",
    "    return log_growth_rate2(t,q0) - y\n",
    "\n",
    "def log_err_global(p, t1, t2, dx1, dx2):\n",
    "    er1 = log_err1(p, t1, dx1)\n",
    "    er2 = log_err2(p, t2, dx2)\n",
    "    return np.concatenate((er1, er2))"
   ]
  },
  {
   "cell_type": "markdown",
   "metadata": {},
   "source": [
    "# another method, using curve fit"
   ]
  },
  {
   "cell_type": "code",
   "execution_count": null,
   "metadata": {
    "scrolled": true
   },
   "outputs": [],
   "source": [
    "f,axes = plt.subplots(1,2,figsize=(7,3))\n",
    "col=1\n",
    "x1_data=pd.read_csv(\"NT10.csv\").values\n",
    "x1,t1 = clean_data(x1_data,1,col)\n",
    "x2_data=pd.read_csv(\"NT05.csv\").values\n",
    "x2,t2 = clean_data(x2_data,0.5,col)\n",
    "\n",
    "dx1 = num_derivative(x1,t1)\n",
    "dx2 = num_derivative(x2,t2)\n",
    "axes[0].scatter(t1[:len(t1)-1],dx1)\n",
    "axes[0].scatter(t2[:len(t2)-1],dx2)\n",
    "axes[0].set_xlabel('Time (min)')\n",
    "axes[0].set_ylabel(r'$\\dfrac{dN}{dt}$')\n",
    "\n",
    "axes[1].scatter(x1[:len(t1)-1,0],dx1/x1[:len(t1)-1,1])\n",
    "axes[1].scatter(x2[:len(t2)-1,0],dx2/x2[:len(t2)-1,1])\n",
    "axes[1].set_xlabel('N')\n",
    "axes[1].set_ylabel(r'$\\dfrac{d[log(N)]}{dt}$')\n",
    "plt.tight_layout()\n",
    "plt.show()"
   ]
  },
  {
   "cell_type": "code",
   "execution_count": null,
   "metadata": {},
   "outputs": [],
   "source": [
    "C=(15e3-200)/15e3\n",
    "plt.plot(t1,x1[:,0]-200*x1[:,0]/15e3)  #predilution -200\n",
    "plt.plot(t1,x1[:,1])\n"
   ]
  },
  {
   "cell_type": "code",
   "execution_count": null,
   "metadata": {},
   "outputs": [],
   "source": [
    "p_global = [0.1]\n",
    "p_best, ier = leastsq(err_global, p_global, args=(t1[:len(t1)-1], t2[:len(t2)-1], dx1, dx2))\n",
    "print(p_best)\n",
    "f,axes = plt.subplots(1,2,figsize=(8,3))\n",
    "axes[0].scatter(t1[:len(t1)-1],dx1,label='NT=1',color='C0')\n",
    "axes[0].plot(t1[:len(t1)-1], growth_rate1(t1[:len(t1)-1], p_best),color='y', label='Simulated',linewidth=3)\n",
    "axes[1].scatter(t2[:len(t2)-1],dx2,label='NT=0.5',color='C1')\n",
    "axes[1].plot(t2[:len(t2)-1], growth_rate2(t2[:len(t2)-1], p_best),color='g', label='Simulated',linewidth=3)\n",
    "for i in range(2):\n",
    "    axes[i].set_xlabel('Time (min)')\n",
    "    axes[i].set_ylabel(r'$\\dfrac{dN}{dt}$')\n",
    "    axes[i].legend()\n",
    "plt.tight_layout(h_pad=1)\n",
    "\n",
    "f,axes = plt.subplots(1,2,figsize=(8,3))\n",
    "axes[0].scatter(x1[:len(t1)-1,1],dx1/x1[:len(t1)-1,1],color='C0',label='NT=1')\n",
    "axes[0].plot(x1[:len(t1)-1,1], growth_rate1(t1[:len(t1)-1], p_best)/x1[:len(t1)-1,1],color='y', label='Simulated',linewidth=3)\n",
    "axes[1].scatter(x2[:len(t2)-1,1],dx2/x2[:len(t2)-1,1],color='C1',label='NT=0.5')\n",
    "axes[1].plot(x2[:len(t2)-1,1], growth_rate2(t2[:len(t2)-1], p_best)/x2[:len(t2)-1,1],color='g', label='Simulated',linewidth=3)\n",
    "for i in range(2):\n",
    "    axes[i].set_xlabel('N')\n",
    "    axes[i].set_ylabel(r'$\\dfrac{d[log(N)]}{dt}$')\n",
    "    axes[i].set_ylim([-0.03,0.03])\n",
    "    #axes[i].set_xlim([0.1,1])\n",
    "    axes[i].legend(loc='lower right')\n",
    "plt.tight_layout(h_pad=1)"
   ]
  },
  {
   "cell_type": "markdown",
   "metadata": {},
   "source": [
    "# Fit from logistic growth rate"
   ]
  },
  {
   "cell_type": "code",
   "execution_count": null,
   "metadata": {},
   "outputs": [],
   "source": [
    "p_global = [0.2]\n",
    "p_best, ier = leastsq(log_err_global, p_global, args=(t1[:len(t1)-1], t2[:len(t2)-1], dx1/x1[:len(t1)-1,1], dx2/x2[:len(t2)-1,1]))\n",
    "print(p_best)\n",
    "f,axes = plt.subplots(1,2,figsize=(8,3))\n",
    "axes[0].scatter(t1[:len(t1)-1],dx1,label='NT=1',color='C0')\n",
    "axes[0].plot(t1[:len(t1)-1], growth_rate1(t1[:len(t1)-1], p_best),color='y', label='Simulated',linewidth=3)\n",
    "axes[1].scatter(t2[:len(t2)-1],dx2,label='NT=0.5',color='C1')\n",
    "axes[1].plot(t2[:len(t2)-1], growth_rate2(t2[:len(t2)-1], p_best),color='g', label='Simulated',linewidth=3)\n",
    "for i in range(2):\n",
    "    axes[i].set_xlabel('Time (min)')\n",
    "    axes[i].set_ylabel(r'$\\dfrac{dN}{dt}$')\n",
    "    axes[i].legend()\n",
    "plt.tight_layout(h_pad=1)\n",
    "\n",
    "f,axes = plt.subplots(1,2,figsize=(8,3))\n",
    "axes[0].scatter(x1[:len(t1)-1,1],dx1/x1[:len(t1)-1,1],color='C0',label='NT=1')\n",
    "axes[0].plot(x1[:len(t1)-1,1], log_growth_rate1(t1[:len(t1)-1], p_best),color='y', label='Simulated',linewidth=3)\n",
    "axes[1].scatter(x2[:len(t2)-1,1],dx2/x2[:len(t2)-1,1],color='C1',label='NT=0.5')\n",
    "axes[1].plot(x2[:len(t2)-1,1], log_growth_rate2(t2[:len(t2)-1], p_best),color='g', label='Simulated',linewidth=3)\n",
    "for i in range(2):\n",
    "    axes[i].set_xlabel('N')\n",
    "    axes[i].set_ylabel(r'$\\dfrac{d[log(N)]}{dt}$')\n",
    "    axes[i].set_ylim([-0.03,0.03])\n",
    "    axes[i].legend(loc='lower right')\n",
    "plt.tight_layout(h_pad=1)"
   ]
  },
  {
   "cell_type": "markdown",
   "metadata": {},
   "source": [
    "# Smoothed data"
   ]
  },
  {
   "cell_type": "code",
   "execution_count": null,
   "metadata": {},
   "outputs": [],
   "source": [
    "f,axes = plt.subplots(1,2,figsize=(7,3))\n",
    "col=1\n",
    "x1_data=pd.read_csv(\"sN1.csv\").values\n",
    "x1,t1 = clean_data(x1_data,1,col)\n",
    "x2_data=pd.read_csv(\"sN05.csv\").values\n",
    "x2,t2 = clean_data(x2_data,0.5,col)\n",
    "\n",
    "dx1 = num_derivative(x1,t1)\n",
    "dx2 = num_derivative(x2,t2)\n",
    "axes[0].scatter(t1[:len(t1)-1],dx1,s=10)\n",
    "axes[0].scatter(t2[:len(t2)-1],dx2,s=10)\n",
    "axes[0].set_xlabel('Time (min)')\n",
    "axes[0].set_ylabel(r'$\\dfrac{dN}{dt}$')\n",
    "\n",
    "axes[1].scatter(x1[:len(t1)-1,0],dx1/x1[:len(t1)-1,1],s=10)\n",
    "axes[1].scatter(x2[:len(t2)-1,0],dx2/x2[:len(t2)-1,1],s=10)\n",
    "axes[1].set_xlabel('N')\n",
    "axes[1].set_ylabel(r'$\\dfrac{d[log(N)]}{dt}$')\n",
    "\n",
    "#for i in range(2):\n",
    "#    axes[i].set_ylim([-0.005,0.02])\n",
    "plt.tight_layout()\n",
    "plt.show()\n",
    "\n"
   ]
  },
  {
   "cell_type": "code",
   "execution_count": null,
   "metadata": {},
   "outputs": [],
   "source": [
    "def growth_rate1(t,q0):\n",
    "    g=0.0359\n",
    "    K=1.5355\n",
    "    N=x1[:len(t),1]\n",
    "    A=1./(1+(1./q0)*np.exp(-g*t))\n",
    "    B=g*(1-N/K)*N\n",
    "    return A*B\n",
    "\n",
    "def growth_rate2(t,q0):\n",
    "    g=0.0359\n",
    "    K=1.5355\n",
    "    N=x2[:len(t),1]\n",
    "    A=1./(1+(1./q0)*np.exp(-g*t))\n",
    "    B=g*(1-N/K)*N\n",
    "    return A*B\n",
    "\n",
    "def err1(q0, t, y):\n",
    "    return growth_rate1(t,q0) - y\n",
    "\n",
    "def err2(q0, t, y):\n",
    "    return growth_rate2(t,q0) - y\n",
    "\n",
    "\n",
    "def err_global(p, t1, t2, dx1, dx2):\n",
    "    er1 = err1(p, t1, dx1)\n",
    "    er2 = err2(p, t2, dx2)\n",
    "    return np.concatenate((er1, er2))\n",
    "\n",
    "\n",
    "def log_growth_rate1(t,q0):\n",
    "    g=0.0359\n",
    "    K=1.5355\n",
    "    N=x1[:len(t),1]\n",
    "    A=1./(1+(1./q0)*np.exp(-g*t))\n",
    "    B=g*(1-N/K)\n",
    "    return A*B\n",
    "\n",
    "def log_growth_rate2(t,q0):\n",
    "    g=0.0359\n",
    "    K=1.5355\n",
    "    N=x2[:len(t),1]\n",
    "    A=1./(1+(1./q0)*np.exp(-g*t))\n",
    "    B=g*(1-N/K)\n",
    "    return A*B\n",
    "\n",
    "\n",
    "def log_err1(q0, t, y):\n",
    "    return log_growth_rate1(t,q0) - y\n",
    "\n",
    "def log_err2(q0, t, y):\n",
    "    return log_growth_rate2(t,q0) - y\n",
    "\n",
    "def log_err_global(p, t1, t2, dx1, dx2):\n",
    "    er1 = log_err1(p, t1, dx1)\n",
    "    er2 = log_err2(p, t2, dx2)\n",
    "    return np.concatenate((er1, er2))"
   ]
  },
  {
   "cell_type": "code",
   "execution_count": null,
   "metadata": {
    "scrolled": true
   },
   "outputs": [],
   "source": [
    "p_global = [0.1]\n",
    "p_best, ier = leastsq(err_global, p_global, args=(t1[:len(t1)-1], t2[:len(t2)-1], dx1, dx2))\n",
    "\n",
    "print(p_best)\n",
    "f,axes = plt.subplots(1,2,figsize=(7,3.5))\n",
    "axes[0].scatter(t1[:len(t1)-1],dx1,label='Numerical',color='C0',s=10)\n",
    "axes[0].plot(t1[:len(t1)-1], growth_rate1(t1[:len(t1)-1], p_best),color='y', label=r'$g(N)N$',linewidth=2)\n",
    "axes[1].scatter(t2[:len(t2)-1],dx2,label='Numerical',color='C1',s=10)\n",
    "axes[1].plot(t2[:len(t2)-1], growth_rate2(t2[:len(t2)-1], p_best),color='g', label=r'$g(N)N$',linewidth=2)\n",
    "for i in range(2):\n",
    "    axes[i].set_xlabel('Time (min)')\n",
    "    axes[i].set_ylabel(r'$\\dfrac{N_b(t_{k+1})-N_p(t_{k})}{\\Delta t}$')\n",
    "    axes[i].set_ylim(-0.005,0.02)\n",
    "    axes[i].legend()\n",
    "axes[0].set_title(r'$N_T=1$')\n",
    "axes[1].set_title(r'$N_T=0.5$')\n",
    "plt.tight_layout(h_pad=1)\n",
    "\n",
    "f,axes = plt.subplots(1,2,figsize=(7,3.5))\n",
    "axes[0].scatter(x1[:len(t1)-1,1],dx1/x1[:len(t1)-1,1],color='C0',label='Numerical',s=10)\n",
    "axes[0].plot(x1[:len(t1)-1,1], growth_rate1(t1[:len(t1)-1], p_best)/x1[:len(t1)-1,1],color='y', label=r'$g(N)$',linewidth=2)\n",
    "axes[1].scatter(x2[:len(t2)-1,1],dx2/x2[:len(t2)-1,1],color='C1',label='Numerical',s=10)\n",
    "axes[1].plot(x2[:len(t2)-1,1], growth_rate2(t2[:len(t2)-1], p_best)/x2[:len(t2)-1,1],color='g', label=r'$g(N)$',linewidth=2)\n",
    "for i in range(2):\n",
    "    axes[i].set_xlabel('N')\n",
    "    axes[i].set_ylabel(r'$\\dfrac{N_b(t_{k+1})-N_p(t_{k})}{N_p(t_{k}) \\Delta t}$')\n",
    "    axes[i].set_ylim([-0.01,0.03])\n",
    "    #axes[i].set_xlim([0.1,1])\n",
    "    axes[i].legend(loc='lower right')\n",
    "axes[0].set_title(r'$N_T=1$')\n",
    "axes[1].set_title(r'$N_T=0.5$')\n",
    "plt.tight_layout(h_pad=1)"
   ]
  },
  {
   "cell_type": "markdown",
   "metadata": {},
   "source": [
    "fit using log growth"
   ]
  },
  {
   "cell_type": "code",
   "execution_count": null,
   "metadata": {},
   "outputs": [],
   "source": [
    "p_global = [0.2]\n",
    "p_best, ier = leastsq(log_err_global, p_global, args=(t1[:len(t1)-1], t2[:len(t2)-1], dx1/x1[:len(t1)-1,1], dx2/x2[:len(t2)-1,1]))\n",
    "print(p_best)\n",
    "f,axes = plt.subplots(1,2,figsize=(7,3.5))\n",
    "axes[0].scatter(t1[:len(t1)-1],dx1,label='Numerical',color='C0',s=10)\n",
    "axes[0].plot(t1[:len(t1)-1], growth_rate1(t1[:len(t1)-1], p_best),color='y', label=r'$g(N)N$',linewidth=2)\n",
    "axes[1].scatter(t2[:len(t2)-1],dx2,label='Numerical',color='C1',s=10)\n",
    "axes[1].plot(t2[:len(t2)-1], growth_rate2(t2[:len(t2)-1], p_best),color='g', label=r'$g(N)N$',linewidth=2)\n",
    "for i in range(2):\n",
    "    axes[i].set_xlabel('Time (min)')\n",
    "    axes[i].set_ylabel(r'$\\dfrac{N_b(t_{k+1})-N_p(t_{k})}{\\Delta t}$')\n",
    "    axes[i].legend()\n",
    "plt.tight_layout(h_pad=1)\n",
    "axes[0].set_title(r'$N_T=1$')\n",
    "axes[1].set_title(r'$N_T=0.5$')\n",
    "\n",
    "\n",
    "f,axes = plt.subplots(1,2,figsize=(7,3.5))\n",
    "axes[0].scatter(x1[:len(t1)-1,1],dx1/x1[:len(t1)-1,1],color='C0',label='NT=1',s=10)\n",
    "axes[0].plot(x1[:len(t1)-1,1], growth_rate1(t1[:len(t1)-1], p_best)/x1[:len(t1)-1,1],color='y', label=r'$g(N)$',linewidth=2)\n",
    "axes[1].scatter(x2[:len(t2)-1,1],dx2/x2[:len(t2)-1,1],color='C1',label='NT=0.5',s=10)\n",
    "axes[1].plot(x2[:len(t2)-1,1], growth_rate2(t2[:len(t2)-1], p_best)/x2[:len(t2)-1,1],color='g', label=r'$g(N)$',linewidth=2)\n",
    "for i in range(2):\n",
    "    axes[i].set_xlabel('N')\n",
    "    axes[i].set_ylabel(r'$\\dfrac{N_b(t_{k+1})-N_p(t_{k})}{N_p(t_{k}) \\Delta t}$')\n",
    "    axes[i].set_ylim([-0.03,0.03])\n",
    "    #axes[i].set_xlim([0.1,1])\n",
    "    axes[i].legend(loc='lower right')\n",
    "axes[0].set_title(r'$N_T=1$')\n",
    "axes[1].set_title(r'$N_T=0.5$')\n",
    "plt.tight_layout(h_pad=1)"
   ]
  },
  {
   "cell_type": "markdown",
   "metadata": {},
   "source": [
    "# Trajectory simulation"
   ]
  },
  {
   "cell_type": "code",
   "execution_count": 3,
   "metadata": {},
   "outputs": [],
   "source": [
    "def dNdt(t, z,q0):\n",
    "    g=0.0359\n",
    "    K=1.5355\n",
    "    A=1./(1+(1./q0)*np.exp(-g*t))\n",
    "    B=g*(1-z/K)*z\n",
    "    C=200/(delt*15e3)\n",
    "    return A*B*(15e3-200)/15e3-(C*z)\n",
    "\n",
    "def lag(t, z,q0):\n",
    "    g=0.0359\n",
    "    K=1.5355\n",
    "    A=1./(1+(1./q0)*np.exp(-g*t))\n",
    "\n",
    "    return A"
   ]
  },
  {
   "cell_type": "code",
   "execution_count": 4,
   "metadata": {},
   "outputs": [
    {
     "data": {
      "image/png": "[encoded data removed]",
      "text/plain": [
       "<Figure size 504x216 with 2 Axes>"
      ]
     },
     "metadata": {
      "needs_background": "light"
     },
     "output_type": "display_data"
    }
   ],
   "source": [
    "col=1\n",
    "x1_data=pd.read_csv(\"sN1.csv\").values\n",
    "x1,t1 = clean_data(x1_data,1,col)\n",
    "x2_data=pd.read_csv(\"sN05.csv\").values\n",
    "x2,t2 = clean_data(x2_data,0.5,col)\n",
    "\n",
    "f,axes = plt.subplots(1,2,figsize=(7,3))\n",
    "N=x1[:len(t1),0]\n",
    "q0=0.1747\n",
    "delt = t1[1]-t1[0]\n",
    "sol1 = solve_ivp(lambda t, z: dNdt(t, z,q0), [t1[0],t1[-1]], [N[0]],dense_output=True)\n",
    "axes[0].plot(t1,np.ndarray.flatten(sol1.sol(t1)),color='y',label='Simulated')\n",
    "axes[0].scatter(t1,N,s=10,label='OD data')\n",
    "axes[0].set_title(r'$N_T=1$')\n",
    "\n",
    "N=x2[:len(t2),0]\n",
    "q0=0.2036\n",
    "delt = t2[1]-t2[0]\n",
    "sol1 = solve_ivp(lambda t, z: dNdt(t, z,q0), [t2[0],t2[-1]], [N[0]],dense_output=True)\n",
    "axes[1].plot(t2,np.ndarray.flatten(sol1.sol(t2)),color='g',label='Simulated')\n",
    "axes[1].scatter(t2,N,s=10,label='OD data',color='C1')\n",
    "axes[1].set_title(r'$N_T=0.5$')\n",
    "\n",
    "for i in range(2):\n",
    "    axes[i].legend()\n",
    "    axes[i].set_ylabel('OD')\n",
    "    axes[i].set_xlabel('Time (min)')\n",
    "    axes[i].set_ylim([0,1])\n",
    "\n",
    "plt.tight_layout()"
   ]
  },
  {
   "cell_type": "code",
   "execution_count": null,
   "metadata": {},
   "outputs": [],
   "source": []
  },
  {
   "cell_type": "code",
   "execution_count": 5,
   "metadata": {},
   "outputs": [
    {
     "data": {
      "text/plain": [
       "<matplotlib.collections.PathCollection at 0x15cb5e03278>"
      ]
     },
     "execution_count": 5,
     "metadata": {},
     "output_type": "execute_result"
    },
    {
     "data": {
      "image/png": "[encoded data removed]",
      "text/plain": [
       "<Figure size 432x288 with 1 Axes>"
      ]
     },
     "metadata": {
      "needs_background": "light"
     },
     "output_type": "display_data"
    }
   ],
   "source": [
    "N=x2[:len(t2),1]\n",
    "q0=0.2035\n",
    "delt = t2[1]-t2[0]\n",
    "sol2 = solve_ivp(lambda t, z: dNdt(t, z,q0), [0,t2[-1]], [N[0]],dense_output=True)\n",
    "t = np.linspace(t2[0], t2[-1], 1000)\n",
    "plt.plot(t,np.ndarray.flatten(sol2.sol(t)))\n",
    "plt.scatter(t2,N,s=10)"
   ]
  },
  {
   "cell_type": "code",
   "execution_count": null,
   "metadata": {},
   "outputs": [],
   "source": [
    "t1[2]-t1[1]"
   ]
  },
  {
   "cell_type": "code",
   "execution_count": null,
   "metadata": {},
   "outputs": [],
   "source": [
    "plt.plot(t1,lag(t1,N,0.9))\n",
    "plt.ylim([0,1])"
   ]
  },
  {
   "cell_type": "code",
   "execution_count": null,
   "metadata": {},
   "outputs": [],
   "source": [
    "C=(15e3-200)/15e3\n",
    "C1=200/(15e3*delt)\n",
    "print(0.0137*C+C1)"
   ]
  },
  {
   "cell_type": "code",
   "execution_count": null,
   "metadata": {},
   "outputs": [],
   "source": [
    "def dNdt(t, z):\n",
    "    g=0.0359\n",
    "    K=1.5355\n",
    "    #A=1./(1+(1./q0)*np.exp(-g*t))\n",
    "    B=g*(1-z/K)*z\n",
    "    C=300/(delt*15e3)\n",
    "    return B*(15e3-200)/15e3-(C*z)"
   ]
  },
  {
   "cell_type": "code",
   "execution_count": null,
   "metadata": {},
   "outputs": [],
   "source": [
    "delt = t1[1]-t1[0]\n",
    "sol1 = solve_ivp(lambda t, z: dNdt(t, z), [0,1200], [1],dense_output=True)"
   ]
  },
  {
   "cell_type": "code",
   "execution_count": null,
   "metadata": {},
   "outputs": [],
   "source": [
    "t = np.linspace(t1[0], 1200, 1000)\n",
    "plt.plot(t,np.ndarray.flatten(sol1.sol(t)))\n",
    "plt.ylim([0,1.2])\n",
    "#plt.scatter(t1,x1[:,0],s=10)"
   ]
  },
  {
   "cell_type": "markdown",
   "metadata": {},
   "source": [
    "# estimate from actual trajectories"
   ]
  },
  {
   "cell_type": "code",
   "execution_count": 6,
   "metadata": {},
   "outputs": [],
   "source": [
    "import numpy as np\n",
    "import matplotlib.pyplot as plt\n",
    "import seaborn as sns\n",
    "from scipy.optimize import leastsq\n",
    "import pandas as pd\n",
    "from scipy.integrate import solve_ivp\n",
    "from scipy.integrate import odeint"
   ]
  },
  {
   "cell_type": "code",
   "execution_count": 7,
   "metadata": {},
   "outputs": [],
   "source": [
    "def clean_data(x_data,NT,col):\n",
    "    x_clean=np.delete(x_data,np.where(x_data[:,1]<0),axis=0)\n",
    "    fin_index = np.min(np.where(x_clean[:,col]>NT))\n",
    "    x = x_clean[:fin_index,1:]\n",
    "    t = x_clean[:fin_index,0]/60.0\n",
    "    return x,t\n",
    "\n",
    "def num_derivative(x,t):\n",
    "    d = np.zeros(len(t)-1)\n",
    "    for i in range(len(t)-1):\n",
    "        d[i] = (x[i+1,0]-x[i,1])/(t[i+1]-t[i])\n",
    "    return d\n",
    "\n",
    "def dNdt_est(z, t, q0):\n",
    "    A=1./(1+(1./q0)*np.exp(-g*t))\n",
    "    B=g*(1-z/K)*z\n",
    "    C=200/(delt*15e3)\n",
    "    return A*B*(15e3-200)/15e3-(C*z)\n",
    "\n",
    "def err_global(q0,t1,t2,y1,y2):\n",
    "    sol1 = np.ndarray.flatten(odeint(dNdt_est, y1[0], t1, args=(q0,)))\n",
    "    sol2 = np.ndarray.flatten(odeint(dNdt_est, y2[0], t2, args=(q0,)))\n",
    "    er1 = sol1 - y1\n",
    "    er2 = sol2 - y2\n",
    "    return np.concatenate((er1, er2))\n",
    "\n",
    "col=1\n",
    "x1_data=pd.read_csv(\"sN1.csv\").values\n",
    "x1,t1 = clean_data(x1_data,1.0,col)\n",
    "x2_data=pd.read_csv(\"sN05.csv\").values\n",
    "x2,t2 = clean_data(x2_data,0.5,col)\n",
    "dx1 = num_derivative(x1,t1)\n",
    "dx2 = num_derivative(x2,t2)\n",
    "\n",
    "N1 = x1[:len(t1),0]\n",
    "N2 = x2[:len(t2),0]\n",
    "delt=t1[1]-t1[0]\n",
    "g=0.0359\n",
    "K=1.5355\n",
    "p_global = 10\n",
    "p_best, ier = leastsq(err_global, p_global, args=(t1,t2,N1,N2))\n"
   ]
  },
  {
   "cell_type": "code",
   "execution_count": null,
   "metadata": {},
   "outputs": [],
   "source": [
    "p_best"
   ]
  },
  {
   "cell_type": "code",
   "execution_count": 8,
   "metadata": {
    "scrolled": false
   },
   "outputs": [
    {
     "data": {
      "image/png": "[encoded data removed]",
      "text/plain": [
       "<Figure size 504x252 with 2 Axes>"
      ]
     },
     "metadata": {
      "needs_background": "light"
     },
     "output_type": "display_data"
    }
   ],
   "source": [
    "f,axes = plt.subplots(1,2,figsize=(7,3.5))\n",
    "delt = t1[1]-t1[0]\n",
    "sol1 = np.ndarray.flatten(odeint(dNdt_est,N1[0], t1, args=(p_best,))) \n",
    "axes[0].plot(t1,sol1,c='y',linewidth=2)\n",
    "axes[0].scatter(t1,N1,s=10,color='C0')\n",
    "axes[0].set_title(r'$N_T=1$')\n",
    "\n",
    "delt=t2[1]-t2[0]\n",
    "sol2 = np.ndarray.flatten(odeint(dNdt_est, N2[0], t2, args=(p_best,)))\n",
    "axes[1].plot(t2,sol2,c='g',linewidth=2)\n",
    "axes[1].scatter(t2,N2,c='C1',s=10)\n",
    "axes[1].set_title(r'$N_T=0.5$')\n",
    "\n",
    "\n",
    "for i in range(2):\n",
    "    axes[i].set_ylabel('OD')\n",
    "    axes[i].set_ylim([0,1])\n",
    "    axes[i].set_xlabel('Time (min)')\n",
    "plt.tight_layout()"
   ]
  },
  {
   "cell_type": "code",
   "execution_count": 9,
   "metadata": {},
   "outputs": [
    {
     "data": {
      "image/png": "[encoded data removed]",
      "text/plain": [
       "<Figure size 504x252 with 2 Axes>"
      ]
     },
     "metadata": {
      "needs_background": "light"
     },
     "output_type": "display_data"
    },
    {
     "data": {
      "image/png": "[encoded data removed]",
      "text/plain": [
       "<Figure size 504x252 with 2 Axes>"
      ]
     },
     "metadata": {
      "needs_background": "light"
     },
     "output_type": "display_data"
    }
   ],
   "source": [
    "def growth_rate_q0(N,t,q0):\n",
    "    g=0.0359\n",
    "    K=1.5355\n",
    "    N=x1[:len(t),1]\n",
    "    A=1./(1+(1./q0)*np.exp(-g*t))\n",
    "    B=g*(1-N/K)*N\n",
    "    return A*B\n",
    "\n",
    "\n",
    "f,axes = plt.subplots(1,2,figsize=(7,3.5))\n",
    "axes[0].scatter(t1[:len(t1)-1],dx1,label='Numerical',color='C0',s=10)\n",
    "axes[0].plot(t1[:len(t1)-1], growth_rate_q0(N1[:len(t1)-1],t1[:len(t1)-1], p_best),color='y', label=r'$g(N)N$',linewidth=2)\n",
    "axes[1].scatter(t2[:len(t2)-1],dx2,label='Numerical',color='C1',s=10)\n",
    "axes[1].plot(t2[:len(t2)-1], growth_rate_q0(N2[:len(t2)-1],t2[:len(t2)-1], p_best),color='g', label=r'$g(N)N$',linewidth=2)\n",
    "axes[0].set_title(r'$N_T=1$')\n",
    "axes[1].set_title(r'$N_T=0.5$')\n",
    "\n",
    "for i in range(2):\n",
    "    axes[i].set_xlabel('Time (min)')\n",
    "    axes[i].set_ylabel(r'$\\dfrac{N_b(t_{k+1})-N_p(t_{k})}{\\Delta t}$')\n",
    "    axes[i].set_ylim(-0.005,0.02)\n",
    "    axes[i].legend(loc='upper left')\n",
    "plt.tight_layout(h_pad=1)\n",
    "\n",
    "f,axes = plt.subplots(1,2,figsize=(7,3.5))\n",
    "axes[0].scatter(x1[:len(t1)-1,1],dx1/x1[:len(t1)-1,1],color='C0',label='Numerical',s=10)\n",
    "axes[0].plot(N1[:len(t1)-1], growth_rate_q0(N1[:len(t1)-1],t1[:len(t1)-1], p_best)/N1[:len(t1)-1],color='y', label=r'$g(N)$',linewidth=2)\n",
    "axes[1].scatter(x2[:len(t2)-1,1],dx2/x2[:len(t2)-1,1],color='C1',label='Numerical',s=10)\n",
    "axes[1].plot(N2[:len(t2)-1], growth_rate_q0(N2[:len(t2)-1],t2[:len(t2)-1], p_best)/N2[:len(t2)-1],color='g', label=r'$g(N)$',linewidth=2)\n",
    "for i in range(2):\n",
    "    axes[i].set_xlabel(r'$N_p$')\n",
    "    axes[i].set_ylabel(r'$\\dfrac{N_b(t_{k+1})-N_p(t_{k})}{N_p(t_{k}) \\Delta t}$')\n",
    "    axes[i].set_ylim([-0.01,0.03])\n",
    "    axes[i].legend(loc='lower right')\n",
    "axes[0].set_title(r'$N_T=1$')\n",
    "axes[1].set_title(r'$N_T=0.5$')\n",
    "plt.tight_layout(h_pad=1)\n"
   ]
  },
  {
   "cell_type": "code",
   "execution_count": null,
   "metadata": {},
   "outputs": [],
   "source": [
    "axes[0].plot(t1[:len(t1)-1], dNdt_est(N1[:len(t1)-1],t1[:len(t1)-1],p_best),color='y', label='Simulated',linewidth=2)\n"
   ]
  },
  {
   "cell_type": "markdown",
   "metadata": {},
   "source": [
    "# Simulation using discrete intervals"
   ]
  },
  {
   "cell_type": "code",
   "execution_count": 1,
   "metadata": {},
   "outputs": [],
   "source": [
    "import numpy as np\n",
    "import pandas as pd\n",
    "import matplotlib.pyplot as plt\n",
    "import seaborn as sns\n",
    "from scipy.optimize import leastsq\n",
    "from scipy.integrate import solve_ivp\n",
    "from scipy.integrate import odeint"
   ]
  },
  {
   "cell_type": "code",
   "execution_count": 2,
   "metadata": {},
   "outputs": [],
   "source": [
    "def clean_data(x_data,NT,col):\n",
    "    x_clean=np.delete(x_data,np.where(x_data[:,1]<0),axis=0)\n",
    "    fin_index = np.min(np.where(x_clean[:,col]>NT))\n",
    "    x = x_clean[:fin_index,1:]\n",
    "    t = x_clean[:fin_index,0]/60.0\n",
    "    return x,t\n",
    "\n",
    "def sim_discrete(t,z,q0):\n",
    "    g=0.0359\n",
    "    K=1.5355\n",
    "    A=1./(1+(1./q0)*np.exp(-g*t))\n",
    "    B=g*(1-z/K)*z\n",
    "    return A*B"
   ]
  },
  {
   "cell_type": "code",
   "execution_count": 3,
   "metadata": {},
   "outputs": [],
   "source": [
    "col=1\n",
    "x1_data=pd.read_csv(\"sN1.csv\").values\n",
    "x1,t1 = clean_data(x1_data,1.0,col)\n",
    "x2_data=pd.read_csv(\"sN05.csv\").values\n",
    "x2,t2 = clean_data(x2_data,0.5,col)\n",
    "\n",
    "#x1_data=pd.read_csv(\"NT10.csv\").values\n",
    "#x1,t1 = clean_data(x1_data,1,col)\n",
    "#x2_data=pd.read_csv(\"NT05.csv\").values\n",
    "#x2,t2 = clean_data(x2_data,0.5,col)\n",
    "#dx1 = num_derivative(x1,t1)\n",
    "#dx2 = num_derivative(x2,t2)"
   ]
  },
  {
   "cell_type": "code",
   "execution_count": 17,
   "metadata": {},
   "outputs": [
    {
     "data": {
      "text/plain": [
       "<matplotlib.legend.Legend at 0x1482b4dd400>"
      ]
     },
     "execution_count": 17,
     "metadata": {},
     "output_type": "execute_result"
    },
    {
     "data": {
      "image/png": "[encoded data removed]",
      "text/plain": [
       "<Figure size 432x288 with 1 Axes>"
      ]
     },
     "metadata": {
      "needs_background": "light"
     },
     "output_type": "display_data"
    }
   ],
   "source": [
    "#p_best = 0.1747\n",
    "p_best = 0.2036\n",
    "\n",
    "f = plt.figure()\n",
    "#L=len(t1)\n",
    "#x0 = x1[0,1]\n",
    "\n",
    "L=len(t2)\n",
    "x0 = x2[0,1]\n",
    "for i in range(L-1):\n",
    "    #t0 = np.linspace(t1[i],t1[i+1],100)\n",
    "    #sol = solve_ivp(lambda t, z: sim_discrete(t,z,p_best), [t1[i],t1[i+1]], [x0],dense_output=True)\n",
    "    #sol1 =np.ndarray.flatten(sol.sol(t0))\n",
    "    #Vdil =15e3*(1-x1[i+1,1]/x1[i+1,0])\n",
    "    #x0 = (1-Vdil/(15e3))*sol1[-1]\n",
    "    #x0 = (1-np.random.uniform(0,100)/(15e3))*sol1[-1]\n",
    "    \n",
    "    t0 = np.linspace(t2[i],t2[i+1],100)\n",
    "    sol = solve_ivp(lambda t, z: sim_discrete(t,z,p_best), [t2[i],t2[i+1]], [x0],dense_output=True)\n",
    "    sol1 =np.ndarray.flatten(sol.sol(t0))\n",
    "    Vdil =15e3*(1-x2[i+1,1]/x2[i+1,0])\n",
    "    x0 = (1-Vdil/(15e3))*sol1[-1]\n",
    "    \n",
    "    plt.plot(t0,sol1,color='g')\n",
    "plt.xlabel('Time (min)')\n",
    "plt.ylabel('OD')\n",
    "\n",
    "#plt.scatter(t1,x1[:,0],color='r',s=10,label=r'$N_b$')\n",
    "#plt.scatter(t1,x1[:,1],color='y',s=10,label=r'$N_p$')\n",
    "#plt.title(r'$N_T=1$')\n",
    "\n",
    "plt.scatter(t2,x2[:,0],color='r',s=10,label=r'$N_b$')\n",
    "plt.scatter(t2,x2[:,1],color='y',s=10,label=r'$N_p$')\n",
    "plt.title(r'$N_T=0.5$')\n",
    "plt.legend()"
   ]
  },
  {
   "cell_type": "markdown",
   "metadata": {},
   "source": [
    "Optimize with respect to discrete intervals"
   ]
  },
  {
   "cell_type": "code",
   "execution_count": 18,
   "metadata": {},
   "outputs": [],
   "source": [
    "def num_derivative(x,t):\n",
    "    d = np.zeros(len(t)-1)\n",
    "    for i in range(len(t)-1):\n",
    "        d[i] = (x[i+1,0]-x[i,1])/(t[i+1]-t[i])\n",
    "    return d\n",
    "\n",
    "def sim_discrete(t,z,q0):\n",
    "    g=0.0359\n",
    "    K=1.5355\n",
    "    A=1./(1+(1./q0)*np.exp(-g*t))\n",
    "    B=g*(1-z/K)*z\n",
    "    return A*B\n",
    "\n",
    "def err_global(q0,t1,t2,yb1,yb2,yp1,yp2,x01,x02):\n",
    "    N1b = []  #predilution\n",
    "    N1p = yp1[0]  #postdilution\n",
    "    x0 =x01\n",
    "    for i in range(len(t1)-1):\n",
    "        t0 = np.linspace(t1[i],t1[i+1],100)\n",
    "        #delt = t1[i+1]-t1[i]\n",
    "        sol = solve_ivp(lambda t, z: sim_discrete(t,z,q0), [t1[i],t1[i+1]], [x0],dense_output=True)\n",
    "        sol1 =np.ndarray.flatten(sol.sol(t0))\n",
    "        N1b = np.append(N1b,[sol1[-1]]) \n",
    "        Vdil =15e3*(1-x1[i+1,1]/x1[i+1,0])\n",
    "        x0 = (1-Vdil/(15e3))*sol1[-1]\n",
    "        N1p = np.append(N1p,[x0])\n",
    "    \n",
    "    N2b = []  #predilution\n",
    "    N2p = yp1[0]  #postdilution\n",
    "    x0 = x02\n",
    "    for i in range(len(t2)-1):\n",
    "        t0 = np.linspace(t2[i],t2[i+1],100)\n",
    "        #delt = t2[i+1]-t2[i]\n",
    "        sol = solve_ivp(lambda t, z: sim_discrete(t,z,q0), [t2[i],t2[i+1]], [x0],dense_output=True)\n",
    "        sol1 =np.ndarray.flatten(sol.sol(t0))\n",
    "        N2b = np.append(N2b,[sol1[-1]]) \n",
    "        Vdil =15e3*(1-x2[i+1,1]/x2[i+1,0])\n",
    "        x0 = (1-Vdil/(15e3))*sol1[-1]\n",
    "        N2p = np.append(N2p,[x0])\n",
    "    er1 = N1b - yb1\n",
    "    er2 = N2b - yb2\n",
    "    er3 = N1p - yp1\n",
    "    er4 = N2p - yp2\n",
    "    #print(er1)\n",
    "    #print(er2)\n",
    "    return np.concatenate((er1, er2,er3,er4))\n",
    "\n",
    "col=1\n",
    "x1_data=pd.read_csv(\"sN1.csv\").values\n",
    "x1,t1 = clean_data(x1_data,1.0,col)\n",
    "x2_data=pd.read_csv(\"sN05.csv\").values\n",
    "x2,t2 = clean_data(x2_data,0.5,col)\n",
    "#x1_data=pd.read_csv(\"NT10.csv\").values\n",
    "#x1,t1 = clean_data(x1_data,1,col)\n",
    "#x2_data=pd.read_csv(\"NT05.csv\").values\n",
    "#x2,t2 = clean_data(x2_data,0.5,col)\n",
    "\n",
    "dx1 = num_derivative(x1,t1)\n",
    "dx2 = num_derivative(x2,t2)\n",
    "\n",
    "Nb1 = x1[1:len(t1),0]\n",
    "Nb2 = x2[1:len(t2),0]\n",
    "\n",
    "Np1 = x1[:len(t1),1]\n",
    "Np2 = x2[:len(t2),1]\n",
    "\n",
    "g=0.0359\n",
    "K=1.5355\n",
    "p_global = 0.5\n",
    "p_best, ier = leastsq(err_global, p_global, args=(t1,t2,Nb1,Nb2,Np1,Np2,x1[0,1],x2[0,1]))"
   ]
  },
  {
   "cell_type": "code",
   "execution_count": 19,
   "metadata": {},
   "outputs": [
    {
     "data": {
      "text/plain": [
       "array([0.19752989])"
      ]
     },
     "execution_count": 19,
     "metadata": {},
     "output_type": "execute_result"
    }
   ],
   "source": [
    "p_best"
   ]
  },
  {
   "cell_type": "code",
   "execution_count": 21,
   "metadata": {},
   "outputs": [
    {
     "data": {
      "image/png": "[encoded data removed]",
      "text/plain": [
       "<Figure size 504x216 with 2 Axes>"
      ]
     },
     "metadata": {
      "needs_background": "light"
     },
     "output_type": "display_data"
    }
   ],
   "source": [
    "f,axes = plt.subplots(1,2,figsize=(7,3))\n",
    "x0 = x1[0,1]\n",
    "for i in range(len(t1)-1):\n",
    "    t0 = np.linspace(t1[i],t1[i+1],100)\n",
    "    sol = solve_ivp(lambda t, z: sim_discrete(t,z,p_best), [t1[i],t1[i+1]], [x0],dense_output=True)\n",
    "    sol1 =np.ndarray.flatten(sol.sol(t0))\n",
    "    Vdil =15e3*(1-x1[i+1,1]/x1[i+1,0])\n",
    "    x0 = (1-Vdil/(15e3))*sol1[-1]\n",
    "    axes[0].plot(t0,sol1,color='y')\n",
    "#axes[0].scatter(t1,x1[:,0],color='r',s=10)\n",
    "axes[0].scatter(t1,x1[:,1],color='C0',s=10)\n",
    "#axes[0].vlines(t1[-1],0,1,color='g',linewidth=1)\n",
    "\n",
    "x0 = x2[0,1]\n",
    "for i in range(len(t2)-1):\n",
    "    t0 = np.linspace(t2[i],t2[i+1],100)\n",
    "    #delt = t2[i+1]-t2[i]\n",
    "    sol = solve_ivp(lambda t, z: sim_discrete(t,z,p_best), [t2[i],t2[i+1]], [x0],dense_output=True)\n",
    "    sol1 =np.ndarray.flatten(sol.sol(t0))\n",
    "    Vdil =15e3*(1-x2[i+1,1]/x2[i+1,0])\n",
    "    x0 = (1-Vdil/(15e3))*sol1[-1]\n",
    "    axes[1].plot(t0,sol1,color='g')    \n",
    "#axes[1].scatter(t2,x2[:,0],color='r',s=10)\n",
    "axes[1].scatter(t2,x2[:,1],color='C1',s=10)\n",
    "\n",
    "for i in range(2):\n",
    "    axes[i].set_ylabel('OD')\n",
    "    axes[i].set_xlabel('Time (min)')\n",
    "    axes[i].set_ylim([0,1])\n",
    "axes[0].set_title(r'$N_T=1$')\n",
    "axes[1].set_title(r'$N_T=0.5$')\n",
    "plt.tight_layout()"
   ]
  },
  {
   "cell_type": "code",
   "execution_count": 23,
   "metadata": {},
   "outputs": [
    {
     "data": {
      "image/png": "[encoded data removed]",
      "text/plain": [
       "<Figure size 504x252 with 2 Axes>"
      ]
     },
     "metadata": {
      "needs_background": "light"
     },
     "output_type": "display_data"
    },
    {
     "data": {
      "image/png": "[encoded data removed]",
      "text/plain": [
       "<Figure size 504x252 with 2 Axes>"
      ]
     },
     "metadata": {
      "needs_background": "light"
     },
     "output_type": "display_data"
    }
   ],
   "source": [
    "def growth_rate_q0(N,t,q0):\n",
    "    g=0.0359\n",
    "    K=1.5355\n",
    "    A=1./(1+(1./q0)*np.exp(-g*t))\n",
    "    B=g*(1-N/K)*N\n",
    "    return A*B\n",
    "\n",
    "f,axes = plt.subplots(1,2,figsize=(7,3.5))\n",
    "axes[0].scatter(t1[:len(t1)-1],dx1,label='Numerical',color='C0',s=10)\n",
    "axes[0].plot(t1[:len(t1)-1], growth_rate_q0(x1[:len(t1)-1,1],t1[:len(t1)-1], p_best),color='y', label=r'$g(N)N$',linewidth=2)\n",
    "axes[1].scatter(t2[:len(t2)-1],dx2,label='Numerical',color='C1',s=10)\n",
    "axes[1].plot(t2[:len(t2)-1], growth_rate_q0(x2[:len(t2)-1,1],t2[:len(t2)-1], p_best),color='g', label=r'$g(N)N$',linewidth=2)\n",
    "axes[0].set_title(r'$N_T=1$')\n",
    "axes[1].set_title(r'$N_T=0.5$')\n",
    "\n",
    "for i in range(2):\n",
    "    axes[i].set_xlabel('Time (min)')\n",
    "    axes[i].set_ylabel(r'$\\dfrac{N_b(t_{k+1})-N_p(t_{k})}{\\Delta t}$')\n",
    "    axes[i].set_ylim(-0.005,0.02)\n",
    "    axes[i].legend(loc='upper left')\n",
    "plt.tight_layout(h_pad=1)\n",
    "\n",
    "f,axes = plt.subplots(1,2,figsize=(7,3.5))\n",
    "axes[0].scatter(x1[:len(t1)-1,1],dx1/x1[:len(t1)-1,1],color='C0',label='Numerical',s=10)\n",
    "axes[0].plot(x1[:len(t1)-1,1], growth_rate_q0(x1[:len(t1)-1,1],t1[:len(t1)-1], p_best)/x1[:len(t1)-1,1],color='y', label=r'$g(N)$',linewidth=2)\n",
    "axes[1].scatter(x2[:len(t2)-1,1],dx2/x2[:len(t2)-1,1],color='C1',label='Numerical',s=10)\n",
    "axes[1].plot(x2[:len(t2)-1,1], growth_rate_q0(x2[:len(t2)-1,1],t2[:len(t2)-1], p_best)/x2[:len(t2)-1,1],color='g', label=r'$g(N)$',linewidth=2)\n",
    "for i in range(2):\n",
    "    axes[i].set_xlabel(r'$N_p$')\n",
    "    axes[i].set_ylabel(r'$\\dfrac{N_b(t_{k+1})-N_p(t_{k})}{N_p(t_{k}) \\Delta t}$')\n",
    "    axes[i].set_ylim([-0.01,0.03])\n",
    "    axes[i].legend(loc='lower right')\n",
    "axes[0].set_title(r'$N_T=1$')\n",
    "axes[1].set_title(r'$N_T=0.5$')\n",
    "plt.tight_layout(h_pad=1)\n"
   ]
  },
  {
   "cell_type": "code",
   "execution_count": null,
   "metadata": {},
   "outputs": [],
   "source": []
  },
  {
   "cell_type": "code",
   "execution_count": 24,
   "metadata": {},
   "outputs": [],
   "source": [
    "#Optimize g,K,q0 \n",
    "\n",
    "def sim_discrete(t,z,g,K,q0):\n",
    "    A=1./(1+(1./q0)*np.exp(-g*t))\n",
    "    B=g*(1-z/K)*z\n",
    "    return A*B\n",
    "\n",
    "def err_global(pars,t1,t2,yb1,yb2,yp1,yp2,x01,x02):\n",
    "    g = pars[0]\n",
    "    K = pars[1]\n",
    "    q0 = pars[2]\n",
    "    N1b = []  #predilution\n",
    "    N1p = yp1[0]  #postdilution\n",
    "    x0 =x01\n",
    "    for i in range(len(t1)-1):\n",
    "        t0 = np.linspace(t1[i],t1[i+1],100)\n",
    "        sol = solve_ivp(lambda t, z: sim_discrete(t,z,g,K,q0), [t1[i],t1[i+1]], [x0],dense_output=True)\n",
    "        sol1 =np.ndarray.flatten(sol.sol(t0))\n",
    "        N1b = np.append(N1b,[sol1[-1]]) \n",
    "        Vdil =15e3*(1-x1[i+1,1]/x1[i+1,0])\n",
    "        x0 = (1-Vdil/(15e3))*sol1[-1]\n",
    "        N1p = np.append(N1p,[x0])\n",
    "    \n",
    "    \n",
    "    N2b = []  #predilution\n",
    "    N2p = yp2[0]  #postdilution\n",
    "    x0 = x02\n",
    "    for i in range(len(t2)-1):\n",
    "        t0 = np.linspace(t2[i],t2[i+1],100)\n",
    "        sol = solve_ivp(lambda t, z: sim_discrete(t,z,g,K,q0), [t2[i],t2[i+1]], [x0],dense_output=True)\n",
    "        sol1 =np.ndarray.flatten(sol.sol(t0))\n",
    "        N2b = np.append(N2b,[sol1[-1]]) \n",
    "        Vdil =15e3*(1-x2[i+1,1]/x2[i+1,0])\n",
    "        x0 = (1-Vdil/(15e3))*sol1[-1]\n",
    "        N2p = np.append(N2p,[x0])\n",
    "        \n",
    "    er1 = N1b - yb1\n",
    "    er2 = N2b - yb2\n",
    "    er3 = N1p - yp1\n",
    "    er4 = N2p - yp2\n",
    "    #print(er1)\n",
    "    #print(er2)\n",
    "    return np.concatenate((er1, er2,er3,er4))\n",
    "\n",
    "col=1\n",
    "x1_data=pd.read_csv(\"sN1.csv\").values\n",
    "x1,t1 = clean_data(x1_data,1.0,col)\n",
    "x2_data=pd.read_csv(\"sN05.csv\").values\n",
    "x2,t2 = clean_data(x2_data,0.5,col)\n",
    "#x1_data=pd.read_csv(\"NT10.csv\").values\n",
    "#x1,t1 = clean_data(x1_data,1,col)\n",
    "#x2_data=pd.read_csv(\"NT05.csv\").values\n",
    "#x2,t2 = clean_data(x2_data,0.5,col)\n",
    "\n",
    "dx1 = num_derivative(x1,t1)\n",
    "dx2 = num_derivative(x2,t2)\n",
    "\n",
    "Nb1 = x1[1:len(t1),0]\n",
    "Nb2 = x2[1:len(t2),0]\n",
    "\n",
    "Np1 = x1[:len(t1),1]\n",
    "Np2 = x2[:len(t2),1]\n",
    "\n",
    "p_global = np.array([0.1,1,0.1])\n",
    "p_best, ier = leastsq(err_global, p_global, args=(t1,t2,Nb1,Nb2,Np1,Np2,x1[0,1],x2[0,1]))"
   ]
  },
  {
   "cell_type": "code",
   "execution_count": 25,
   "metadata": {},
   "outputs": [
    {
     "data": {
      "text/plain": [
       "array([0.02750235, 1.93876738, 0.42255817])"
      ]
     },
     "execution_count": 25,
     "metadata": {},
     "output_type": "execute_result"
    }
   ],
   "source": [
    "p_best"
   ]
  },
  {
   "cell_type": "code",
   "execution_count": 27,
   "metadata": {},
   "outputs": [
    {
     "data": {
      "image/png": "[encoded data removed]",
      "text/plain": [
       "<Figure size 504x216 with 2 Axes>"
      ]
     },
     "metadata": {
      "needs_background": "light"
     },
     "output_type": "display_data"
    }
   ],
   "source": [
    "g = p_best[0]\n",
    "K = p_best[1]\n",
    "q0 = p_best[2]\n",
    "f,axes = plt.subplots(1,2,figsize=(7,3))\n",
    "L=len(t1)\n",
    "x0 = x1[0,1]\n",
    "for i in range(L-1):\n",
    "    t0 = np.linspace(t1[i],t1[i+1],100)\n",
    "    sol = solve_ivp(lambda t, z: sim_discrete(t,z,g,K,q0), [t1[i],t1[i+1]], [x0],dense_output=True)\n",
    "    sol1 =np.ndarray.flatten(sol.sol(t0))\n",
    "    Vdil =15e3*(1-x1[i+1,1]/x1[i+1,0])\n",
    "    x0 = (1-Vdil/(15e3))*sol1[-1]    \n",
    "    axes[0].plot(t0,sol1,color='y')\n",
    "#axes[0].scatter(t1,x1[:,0],color='r',s=10)\n",
    "axes[0].scatter(t1,x1[:,1],color='C0',s=10)\n",
    "\n",
    "L=len(t2)\n",
    "x0 = x2[0,1]\n",
    "for i in range(L-1):\n",
    "    t0 = np.linspace(t2[i],t2[i+1],100)\n",
    "    sol = solve_ivp(lambda t, z: sim_discrete(t,z,g,K,q0), [t2[i],t2[i+1]], [x0],dense_output=True)\n",
    "    sol1 =np.ndarray.flatten(sol.sol(t0))\n",
    "    Vdil =15e3*(1-x2[i+1,1]/x2[i+1,0])\n",
    "    x0 = (1-Vdil/(15e3))*sol1[-1]    \n",
    "    axes[1].plot(t0,sol1,color='g')\n",
    "#axes[1].scatter(t2,x2[:,0],color='r',s=10)\n",
    "axes[1].scatter(t2,x2[:,1],color='C1',s=10)\n",
    "\n",
    "for i in range(2):\n",
    "    axes[i].set_ylabel('OD')\n",
    "    axes[i].set_xlabel('Time (min)')\n",
    "    axes[i].set_ylim([0,1])\n",
    "axes[0].set_title(r'$N_T=1$')\n",
    "axes[1].set_title(r'$N_T=0.5$')\n",
    "plt.tight_layout()"
   ]
  },
  {
   "cell_type": "code",
   "execution_count": 28,
   "metadata": {},
   "outputs": [
    {
     "data": {
      "image/png": "[encoded data removed]",
      "text/plain": [
       "<Figure size 504x252 with 2 Axes>"
      ]
     },
     "metadata": {
      "needs_background": "light"
     },
     "output_type": "display_data"
    },
    {
     "data": {
      "image/png": "[encoded data removed]",
      "text/plain": [
       "<Figure size 504x252 with 2 Axes>"
      ]
     },
     "metadata": {
      "needs_background": "light"
     },
     "output_type": "display_data"
    }
   ],
   "source": [
    "def growth_rate_q0(N,t,g,K,q0):\n",
    "    A=1./(1+np.exp(-g*t)/q0)\n",
    "    B=g*(1-N/K)*N\n",
    "    return A*B\n",
    "\n",
    "f,axes = plt.subplots(1,2,figsize=(7,3.5))\n",
    "axes[0].scatter(t1[:len(t1)-1],dx1,label='Numerical',color='C0',s=10)\n",
    "axes[0].plot(t1[:len(t1)-1], growth_rate_q0(x1[:len(t1)-1,1],t1[:len(t1)-1],g,K,q0),color='y', label=r'$g(N)N$',linewidth=2)\n",
    "axes[1].scatter(t2[:len(t2)-1],dx2,label='Numerical',color='C1',s=10)\n",
    "axes[1].plot(t2[:len(t2)-1], growth_rate_q0(x2[:len(t2)-1,1],t2[:len(t2)-1],g,K,q0),color='g', label=r'$g(N)N$',linewidth=2)\n",
    "axes[0].set_title(r'$N_T=1$')\n",
    "axes[1].set_title(r'$N_T=0.5$')\n",
    "for i in range(2):\n",
    "    axes[i].set_xlabel('Time (min)')\n",
    "    axes[i].set_ylabel(r'$\\dfrac{N_b(t_{k+1})-N_p(t_{k})}{\\Delta t}$')\n",
    "    axes[i].set_ylim(-0.005,0.02)\n",
    "    axes[i].legend(loc='upper left')\n",
    "plt.tight_layout(h_pad=1)\n",
    "\n",
    "f,axes = plt.subplots(1,2,figsize=(7,3.5))\n",
    "axes[0].scatter(x1[:len(t1)-1,1],dx1/x1[:len(t1)-1,1],color='C0',label='Numerical',s=10)\n",
    "axes[0].plot(x1[:len(t1)-1,1], growth_rate_q0(x1[:len(t1)-1,1],t1[:len(t1)-1],g,K,q0)/x1[:len(t1)-1,1],color='y', label=r'$g(N)$',linewidth=2)\n",
    "axes[1].scatter(x2[:len(t2)-1,1],dx2/x2[:len(t2)-1,1],color='C1',label='Numerical',s=10)\n",
    "axes[1].plot(x2[:len(t2)-1,1], growth_rate_q0(x2[:len(t2)-1,1],t2[:len(t2)-1],g,K,q0)/x2[:len(t2)-1,1],color='g', label=r'$g(N)$',linewidth=2)\n",
    "for i in range(2):\n",
    "    axes[i].set_xlabel(r'$N_p$')\n",
    "    axes[i].set_ylabel(r'$\\dfrac{N_b(t_{k+1})-N_p(t_{k})}{N_p(t_{k}) \\Delta t}$')\n",
    "    axes[i].set_ylim([-0.01,0.03])\n",
    "    axes[i].legend(loc='lower right')\n",
    "axes[0].set_title(r'$N_T=1$')\n",
    "axes[1].set_title(r'$N_T=0.5$')\n",
    "plt.tight_layout(h_pad=1)"
   ]
  },
  {
   "cell_type": "markdown",
   "metadata": {},
   "source": [
    "Numerical data generate"
   ]
  },
  {
   "cell_type": "code",
   "execution_count": 114,
   "metadata": {},
   "outputs": [],
   "source": [
    "import numpy as np\n",
    "import pandas as pd\n",
    "import matplotlib.pyplot as plt\n",
    "import seaborn as sns\n",
    "from scipy.optimize import leastsq\n",
    "from scipy.integrate import solve_ivp\n",
    "from scipy.integrate import odeint"
   ]
  },
  {
   "cell_type": "code",
   "execution_count": 115,
   "metadata": {},
   "outputs": [
    {
     "data": {
      "text/plain": [
       "-48.01538882459772"
      ]
     },
     "execution_count": 115,
     "metadata": {},
     "output_type": "execute_result"
    }
   ],
   "source": [
    "np.random.uniform(-50,0)"
   ]
  },
  {
   "cell_type": "code",
   "execution_count": 116,
   "metadata": {},
   "outputs": [
    {
     "data": {
      "image/png": "[encoded data removed]",
      "text/plain": [
       "<Figure size 432x288 with 1 Axes>"
      ]
     },
     "metadata": {
      "needs_background": "light"
     },
     "output_type": "display_data"
    }
   ],
   "source": [
    "def sim_discrete(t,z,q0):\n",
    "    g=0.034\n",
    "    K=1.5\n",
    "    A=1./(1+(1./q0)*np.exp(-g*t))\n",
    "    B=g*(1-z/K)*z\n",
    "    return A*B\n",
    "\n",
    "\n",
    "t1 =  np.linspace(4,100,45)\n",
    "p_best = 0.5\n",
    "f = plt.figure()\n",
    "\n",
    "Np=[0.32]\n",
    "Nb=[0.3]\n",
    "x0=Np[0]\n",
    "for i in range(len(t1)-1):\n",
    "    t0 = np.linspace(t1[i],t1[i+1],100)\n",
    "    sol = solve_ivp(lambda t, z: sim_discrete(t,z,p_best), [t1[i],t1[i+1]], [x0],dense_output=True)\n",
    "    sol1 =np.ndarray.flatten(sol.sol(t0))#+np.random.exponential(0.001)#*np.sign(np.random.uniform(-1,1))\n",
    "    Nb = np.append(Nb,[sol1[-1]])\n",
    "    #x0 = (1-(200)/(15e3))*sol1[-1]#+np.random.exponential(0.006)#*np.sign(np.random.uniform(-1,1))\n",
    "    x0 = (1-np.random.uniform(0,100)/(15e3))*sol1[-1]\n",
    "    Np = np.append(Np,[x0])\n",
    "    plt.plot(t0,sol1,color='C0')\n",
    "plt.scatter(t1,Np,color='r',s=10)\n",
    "plt.scatter(t1,Nb,color='y',s=10)\n",
    "plt.title(r'$N_T=0.5$')\n",
    "plt.ylim([0,1])\n",
    "plt.xlabel('Time (min)')\n",
    "plt.ylabel('OD')\n",
    "\n",
    "\n",
    "def num_derivative(x,t):\n",
    "    d = np.zeros(len(t)-1)\n",
    "    for i in range(len(t)-1):\n",
    "        d[i] = (x[i+1,0]-x[i,1])/(t[i+1]-t[i])\n",
    "    return d\n",
    "\n",
    "x1 = np.column_stack((Nb,Np))\n",
    "#tx1= x1\n",
    "dx1 = num_derivative(x1,t1)\n",
    "#f = plt.figure()\n",
    "#plt.scatter(t1[:-1],dx1,c='r',s=2)\n",
    "#plt.scatter(t1,sim_discrete(t1,x1[:,1],p_best),c='g',s=2)\n",
    "#plt.ylim([0,0.02])"
   ]
  },
  {
   "cell_type": "code",
   "execution_count": 117,
   "metadata": {},
   "outputs": [
    {
     "data": {
      "image/png": "[encoded data removed]",
      "text/plain": [
       "<Figure size 432x288 with 1 Axes>"
      ]
     },
     "metadata": {
      "needs_background": "light"
     },
     "output_type": "display_data"
    }
   ],
   "source": [
    "f = plt.figure()\n",
    "t2 =np.linspace(4,80,25)\n",
    "\n",
    "Np=[0.16]\n",
    "Nb=[0.13]\n",
    "x0=Np[0]\n",
    "for i in range(len(t2)-1):\n",
    "    t0 = np.linspace(t2[i],t2[i+1],100)\n",
    "    sol = solve_ivp(lambda t, z: sim_discrete(t,z,p_best), [t2[i],t2[i+1]], [x0],dense_output=True)\n",
    "    sol1 =np.ndarray.flatten(sol.sol(t0))#+np.random.exponential(0.001)#*np.sign(np.random.uniform(-1,1))\n",
    "    Nb = np.append(Nb,[sol1[-1]])\n",
    "    #x0 = (1-(200)/(15e3))*sol1[-1]#+np.random.exponential(0.006)#*np.sign(np.random.uniform(-1,1))\n",
    "    x0 = (1-np.random.uniform(-50,0)/(15e3))*sol1[-1]\n",
    "    Np = np.append(Np,[x0])\n",
    "    plt.plot(t0,sol1,color='C0')\n",
    "plt.scatter(t2,Np,color='r',s=10,label=r'$N_p$')\n",
    "plt.scatter(t2,Nb,color='y',s=10,label=r'$N_b$')\n",
    "plt.title(r'$N_T=0.5$')\n",
    "plt.ylim([0,1])\n",
    "plt.xlabel('Time (min)')\n",
    "plt.ylabel('OD')\n",
    "plt.legend()\n",
    "\n",
    "def num_derivative(x,t):\n",
    "    d = np.zeros(len(t)-1)\n",
    "    for i in range(len(t)-1):\n",
    "        d[i] = (x[i+1,0]-x[i,1])/(t[i+1]-t[i])\n",
    "    return d\n",
    "\n",
    "x2 = np.column_stack((Nb,Np))\n",
    "#tx2= x2\n",
    "dx2 = num_derivative(x2,t2)\n",
    "#f = plt.figure()\n",
    "#plt.scatter(t2[:-1],dx2,c='r',s=2)\n",
    "#plt.scatter(t2,sim_discrete(t2,x2[:,1],p_best),c='g',s=2)\n",
    "#plt.ylim([0,0.02])"
   ]
  },
  {
   "cell_type": "markdown",
   "metadata": {},
   "source": [
    "f,axes = plt.subplots(1,2,figsize=(7,3))\n",
    "x0 = x1[0,1]\n",
    "for i in range(len(t1)-1):\n",
    "    t0 = np.linspace(t1[i],t1[i+1],100)\n",
    "    sol = solve_ivp(lambda t, z: sim_discrete(t,z,p_best), [t1[i],t1[i+1]], [x0],dense_output=True)\n",
    "    sol1 =np.ndarray.flatten(sol.sol(t0))\n",
    "    x0 = (1-200/(15e3))*sol1[-1]\n",
    "    axes[0].plot(t0,sol1,color='y')\n",
    "#axes[0].scatter(t1,x1[:,0],color='r',s=10)\n",
    "axes[0].scatter(t1,x1[:,1],color='C0',s=10)\n",
    "#axes[0].vlines(t1[-1],0,1,color='g',linewidth=1)\n",
    "\n",
    "x0 = x2[0,1]\n",
    "for i in range(len(t2)-1):\n",
    "    t0 = np.linspace(t2[i],t2[i+1],100)\n",
    "    #delt = t2[i+1]-t2[i]\n",
    "    sol = solve_ivp(lambda t, z: sim_discrete(t,z,p_best), [t2[i],t2[i+1]], [x0],dense_output=True)\n",
    "    sol1 =np.ndarray.flatten(sol.sol(t0))\n",
    "    x0 = (1-200/(15e3))*sol1[-1]\n",
    "    axes[1].plot(t0,sol1,color='g')    \n",
    "#axes[1].scatter(t2,x2[:,0],color='r',s=10)\n",
    "axes[1].scatter(t2,x2[:,1],color='C1',s=10)\n",
    "\n",
    "for i in range(2):\n",
    "    axes[i].set_ylabel('OD')\n",
    "    axes[i].set_xlabel('Time (min)')\n",
    "    axes[i].set_ylim([0,1])\n",
    "axes[0].set_title(r'$N_T=1$')\n",
    "axes[1].set_title(r'$N_T=0.5$')\n",
    "plt.tight_layout()"
   ]
  },
  {
   "cell_type": "markdown",
   "metadata": {},
   "source": [
    "optimize separately"
   ]
  },
  {
   "cell_type": "code",
   "execution_count": 119,
   "metadata": {},
   "outputs": [],
   "source": [
    "#Optimize g,K,q0 \n",
    "\n",
    "def sim_discrete(t,z,g,K,q0):\n",
    "    A=1./(1+(1./q0)*np.exp(-g*t))\n",
    "    B=g*(1-z/K)*z\n",
    "    return A*B\n",
    "\n",
    "def err_global(pars,t1,t2,yb1,yb2,yp1,yp2,x01,x02):\n",
    "    g = pars[0]\n",
    "    K = pars[1]\n",
    "    q0 = pars[2]\n",
    "    N1b = []  #predilution\n",
    "    N1p = yp1[0]  #postdilution\n",
    "    x0 =x01\n",
    "    for i in range(len(t1)-1):\n",
    "        t0 = np.linspace(t1[i],t1[i+1],100)\n",
    "        sol = solve_ivp(lambda t, z: sim_discrete(t,z,g,K,q0), [t1[i],t1[i+1]], [x0],dense_output=True)\n",
    "        sol1 =np.ndarray.flatten(sol.sol(t0))\n",
    "        N1b = np.append(N1b,[sol1[-1]]) \n",
    "        x0 = (1-200/(15e3))*sol1[-1]\n",
    "        N1p = np.append(N1p,[x0])\n",
    "    \n",
    "    \n",
    "    N2b = []  #predilution\n",
    "    N2p = yp2[0]  #postdilution\n",
    "    x0 = x02\n",
    "    for i in range(len(t2)-1):\n",
    "        t0 = np.linspace(t2[i],t2[i+1],100)\n",
    "        sol = solve_ivp(lambda t, z: sim_discrete(t,z,g,K,q0), [t2[i],t2[i+1]], [x0],dense_output=True)\n",
    "        sol1 =np.ndarray.flatten(sol.sol(t0))\n",
    "        N2b = np.append(N2b,[sol1[-1]]) \n",
    "        x0 = (1-200/(15e3))*sol1[-1]\n",
    "        N2p = np.append(N2p,[x0])\n",
    "        \n",
    "    er1 = N1b - yb1\n",
    "    er2 = N2b - yb2\n",
    "    er3 = N1p - yp1\n",
    "    er4 = N2p - yp2\n",
    "    #print(er1)\n",
    "    #print(er2)\n",
    "    return np.concatenate((er1, er2,er3,er4))\n",
    "\n",
    "\n",
    "Nb1 = x1[1:len(t1),0]\n",
    "Nb2 = x2[1:len(t2),0]\n",
    "\n",
    "Np1 = x1[:len(t1),1]\n",
    "Np2 = x2[:len(t2),1]\n",
    "\n",
    "p_global = np.array([0.1,1,0.1])\n",
    "p_best, ier = leastsq(err_global, p_global, args=(t1,t2,Nb1,Nb2,Np1,Np2,x1[0,1],x2[0,1]))"
   ]
  },
  {
   "cell_type": "code",
   "execution_count": 120,
   "metadata": {},
   "outputs": [
    {
     "data": {
      "text/plain": [
       "array([0.03603585, 1.80417798, 0.74809351])"
      ]
     },
     "execution_count": 120,
     "metadata": {},
     "output_type": "execute_result"
    }
   ],
   "source": [
    "p_best"
   ]
  },
  {
   "cell_type": "code",
   "execution_count": 126,
   "metadata": {},
   "outputs": [
    {
     "data": {
      "image/png": "[encoded data removed]",
      "text/plain": [
       "<Figure size 504x216 with 2 Axes>"
      ]
     },
     "metadata": {
      "needs_background": "light"
     },
     "output_type": "display_data"
    }
   ],
   "source": [
    "g = p_best[0]\n",
    "K = p_best[1]\n",
    "q0 = p_best[2]\n",
    "f,axes = plt.subplots(1,2,figsize=(7,3))\n",
    "L=len(t1)\n",
    "x0 = x1[0,1]\n",
    "for i in range(L-1):\n",
    "    t0 = np.linspace(t1[i],t1[i+1],100)\n",
    "    sol = solve_ivp(lambda t, z: sim_discrete(t,z,g,K,q0), [t1[i],t1[i+1]], [x0],dense_output=True)\n",
    "    sol1 =np.ndarray.flatten(sol.sol(t0))\n",
    "    x0 = (1-200/(15e3))*sol1[-1]\n",
    "    axes[0].plot(t0,sol1,color='y')\n",
    "#axes[0].scatter(t1,x1[:,0],color='r',s=10)\n",
    "axes[0].scatter(t1,x1[:,1],color='C0',s=10)\n",
    "\n",
    "L=len(t2)\n",
    "x0 = x2[0,1]\n",
    "for i in range(L-1):\n",
    "    t0 = np.linspace(t2[i],t2[i+1],100)\n",
    "    sol = solve_ivp(lambda t, z: sim_discrete(t,z,g,K,q0), [t2[i],t2[i+1]], [x0],dense_output=True)\n",
    "    sol1 =np.ndarray.flatten(sol.sol(t0))\n",
    "    x0 = (1-200/(15e3))*sol1[-1]\n",
    "    axes[1].plot(t0,sol1,color='g')\n",
    "#axes[1].scatter(t2,x2[:,0],color='r',s=10)\n",
    "axes[1].scatter(t2,x2[:,1],color='C1',s=10)\n",
    "\n",
    "for i in range(2):\n",
    "    axes[i].set_ylabel('OD')\n",
    "    axes[i].set_xlabel('Time (min)')\n",
    "    axes[i].set_ylim([0,1])\n",
    "axes[0].set_title(r'$N_T=1$')\n",
    "axes[1].set_title(r'$N_T=0.5$')\n",
    "plt.tight_layout()"
   ]
  },
  {
   "cell_type": "code",
   "execution_count": 112,
   "metadata": {},
   "outputs": [
    {
     "data": {
      "image/png": "[encoded data removed]",
      "text/plain": [
       "<Figure size 504x252 with 2 Axes>"
      ]
     },
     "metadata": {
      "needs_background": "light"
     },
     "output_type": "display_data"
    },
    {
     "data": {
      "image/png": "[encoded data removed]",
      "text/plain": [
       "<Figure size 504x252 with 2 Axes>"
      ]
     },
     "metadata": {
      "needs_background": "light"
     },
     "output_type": "display_data"
    }
   ],
   "source": [
    "def growth_rate_q0(N,t,g,K,q0):\n",
    "    A=1./(1+np.exp(-g*t)/q0)\n",
    "    B=g*(1-N/K)*N\n",
    "    return A*B\n",
    "\n",
    "f,axes = plt.subplots(1,2,figsize=(7,3.5))\n",
    "axes[0].scatter(t1[:len(t1)-1],dx1,label='Numerical',color='C0',s=10)\n",
    "axes[0].plot(t1[:len(t1)-1], growth_rate_q0(x1[:len(t1)-1,1],t1[:len(t1)-1],g,K,q0),color='y', label=r'$g(N)N$',linewidth=2)\n",
    "axes[1].scatter(t2[:len(t2)-1],dx2,label='Numerical',color='C1',s=10)\n",
    "axes[1].plot(t2[:len(t2)-1], growth_rate_q0(x2[:len(t2)-1,1],t2[:len(t2)-1],g,K,q0),color='g', label=r'$g(N)N$',linewidth=2)\n",
    "axes[0].set_title(r'$N_T=1$')\n",
    "axes[1].set_title(r'$N_T=0.5$')\n",
    "for i in range(2):\n",
    "    axes[i].set_xlabel('Time (min)')\n",
    "    axes[i].set_ylabel(r'$\\dfrac{N_b(t_{k+1})-N_p(t_{k})}{\\Delta t}$')\n",
    "    axes[i].set_ylim(-0.005,0.02)\n",
    "    axes[i].legend(loc='upper left')\n",
    "plt.tight_layout(h_pad=1)\n",
    "\n",
    "f,axes = plt.subplots(1,2,figsize=(7,3.5))\n",
    "axes[0].scatter(x1[:len(t1)-1,1],dx1/x1[:len(t1)-1,1],color='C0',label='Numerical',s=10)\n",
    "axes[0].plot(x1[:len(t1)-1,1], growth_rate_q0(x1[:len(t1)-1,1],t1[:len(t1)-1],g,K,q0)/x1[:len(t1)-1,1],color='y', label=r'$g(N)$',linewidth=2)\n",
    "axes[1].scatter(x2[:len(t2)-1,1],dx2/x2[:len(t2)-1,1],color='C1',label='Numerical',s=10)\n",
    "axes[1].plot(x2[:len(t2)-1,1], growth_rate_q0(x2[:len(t2)-1,1],t2[:len(t2)-1],g,K,q0)/x2[:len(t2)-1,1],color='g', label=r'$g(N)$',linewidth=2)\n",
    "for i in range(2):\n",
    "    axes[i].set_xlabel(r'$N_p$')\n",
    "    axes[i].set_ylabel(r'$\\dfrac{N_b(t_{k+1})-N_p(t_{k})}{N_p(t_{k}) \\Delta t}$')\n",
    "    axes[i].set_ylim([-0.01,0.03])\n",
    "    axes[i].legend(loc='lower right')\n",
    "axes[0].set_title(r'$N_T=1$')\n",
    "axes[1].set_title(r'$N_T=0.5$')\n",
    "plt.tight_layout(h_pad=1)"
   ]
  },
  {
   "cell_type": "markdown",
   "metadata": {},
   "source": [
    "col=1\n",
    "x1_data=pd.read_csv(\"sN1.csv\").values\n",
    "x1,t1 = clean_data(x1_data,1.0,col)\n",
    "x2_data=pd.read_csv(\"sN05.csv\").values\n",
    "x2,t2 = clean_data(x2_data,0.5,col)"
   ]
  },
  {
   "cell_type": "code",
   "execution_count": 127,
   "metadata": {},
   "outputs": [],
   "source": [
    "L=len(t1)-1\n",
    "err1 = np.zeros(L)\n",
    "for i in range(L):\n",
    "    err1[i] = x1[i+1,1]-(1-200/15e3)*x1[i+1,0]\n",
    "    \n",
    "L=len(t2)-1\n",
    "err2 = np.zeros(L)\n",
    "for i in range(L):\n",
    "    err2[i] = x2[i+1,1]-(1-200/15e3)*x2[i+1,0]"
   ]
  },
  {
   "cell_type": "code",
   "execution_count": 128,
   "metadata": {},
   "outputs": [
    {
     "data": {
      "text/plain": [
       "(array([183.03047558, 305.05079263, 244.0406341 , 122.02031705,\n",
       "         61.01015853, 183.03047558, 122.02031705,  61.01015853,\n",
       "         61.01015853, 122.02031705]),\n",
       " array([0.00224589, 0.00292883, 0.00361178, 0.00429473, 0.00497767,\n",
       "        0.00566062, 0.00634356, 0.00702651, 0.00770946, 0.0083924 ,\n",
       "        0.00907535]),\n",
       " <a list of 10 Patch objects>)"
      ]
     },
     "execution_count": 128,
     "metadata": {},
     "output_type": "execute_result"
    },
    {
     "data": {
      "image/png": "[encoded data removed]",
      "text/plain": [
       "<Figure size 432x288 with 1 Axes>"
      ]
     },
     "metadata": {
      "needs_background": "light"
     },
     "output_type": "display_data"
    }
   ],
   "source": [
    "plt.hist(err1,density=True,alpha=0.5)\n",
    "plt.hist(err2,density=True,alpha=0.5)"
   ]
  },
  {
   "cell_type": "code",
   "execution_count": 129,
   "metadata": {},
   "outputs": [
    {
     "data": {
      "image/png": "[encoded data removed]",
      "text/plain": [
       "<Figure size 432x288 with 1 Axes>"
      ]
     },
     "metadata": {
      "needs_background": "light"
     },
     "output_type": "display_data"
    }
   ],
   "source": [
    "plt.plot(x1[1:,0],err1,c='C0',label=r'$N_T=1$')\n",
    "plt.plot(x2[1:,0],err2,c='C1',label=r'$N_T=0.5$')\n",
    "plt.ylabel(r'$N_p$ error')\n",
    "plt.xlabel(r'$N_p$')\n",
    "plt.legend()\n",
    "\n",
    "from sklearn.linear_model import LinearRegression\n",
    "model1 = LinearRegression().fit(x1[1:,0].reshape(-1, 1),err1.reshape(-1, 1))\n",
    "model2 = LinearRegression().fit(x2[1:,0].reshape(-1, 1),err2.reshape(-1, 1))\n"
   ]
  },
  {
   "cell_type": "code",
   "execution_count": null,
   "metadata": {},
   "outputs": [],
   "source": [
    "print([model1.intercept_,model1.coef_])\n",
    "print([model2.intercept_,model2.coef_])"
   ]
  },
  {
   "cell_type": "code",
   "execution_count": 130,
   "metadata": {},
   "outputs": [
    {
     "data": {
      "text/plain": [
       "Text(0.5, 0, '$V_dil$')"
      ]
     },
     "execution_count": 130,
     "metadata": {},
     "output_type": "execute_result"
    },
    {
     "data": {
      "image/png": "[encoded data removed]",
      "text/plain": [
       "<Figure size 432x288 with 1 Axes>"
      ]
     },
     "metadata": {
      "needs_background": "light"
     },
     "output_type": "display_data"
    }
   ],
   "source": [
    "L=len(t1)-1\n",
    "vdil1 = np.zeros(L)\n",
    "for i in range(L):\n",
    "    vdil1[i] = 15e3*(1-x1[i+1,1]/x1[i+1,0])\n",
    "    \n",
    "L=len(t2)-1\n",
    "vdil2 = np.zeros(L)\n",
    "for i in range(L):\n",
    "    vdil2[i] = 15e3*(1-x2[i+1,1]/x2[i+1,0])\n",
    "    \n",
    "plt.hist(vdil1,density=True,label=r'$N_T=1$')\n",
    "plt.hist(vdil2,density=True,label=r'$N_T=0.5$')\n",
    "plt.legend()\n",
    "plt.xlabel(r'$V_dil$')"
   ]
  },
  {
   "cell_type": "code",
   "execution_count": null,
   "metadata": {},
   "outputs": [],
   "source": [
    "np.mean(err2)"
   ]
  },
  {
   "cell_type": "code",
   "execution_count": null,
   "metadata": {},
   "outputs": [],
   "source": [
    "np.random.exponential(5)"
   ]
  },
  {
   "cell_type": "code",
   "execution_count": null,
   "metadata": {},
   "outputs": [],
   "source": [
    "col=1\n",
    "x1_data=pd.read_csv(\"sN1.csv\").values\n",
    "x1,t1 = clean_data(x1_data,1.0,col)\n",
    "x2_data=pd.read_csv(\"sN05.csv\").values\n",
    "x2,t2 = clean_data(x2_data,0.5,col)\n",
    "\n",
    "L=len(t1)-1\n",
    "vdil1 = np.zeros(L)\n",
    "for i in range(L):\n",
    "    vdil1[i] = 15e3*(1-x1[i+1,1]/x1[i+1,0])\n",
    "    \n",
    "L=len(t2)-1\n",
    "vdil2 = np.zeros(L)\n",
    "for i in range(L):\n",
    "    vdil2[i] = 15e3*(1-x2[i+1,1]/x2[i+1,0])"
   ]
  },
  {
   "cell_type": "code",
   "execution_count": null,
   "metadata": {},
   "outputs": [],
   "source": [
    "plt.hist(vdil1,density=True,label=r'$N_T=1$')\n",
    "plt.hist(vdil2,density=True,label=r'$N_T=0.5$')\n",
    "plt.legend()\n",
    "plt.xlabel(r'$V_dil$')"
   ]
  },
  {
   "cell_type": "code",
   "execution_count": null,
   "metadata": {},
   "outputs": [],
   "source": [
    "vdil2"
   ]
  },
  {
   "cell_type": "code",
   "execution_count": 88,
   "metadata": {},
   "outputs": [
    {
     "data": {
      "text/plain": [
       "array([0.00238594, 0.00383426, 0.00387425, 0.00319317, 0.00443874,\n",
       "       0.00384237, 0.00267465, 0.00413443, 0.00465873, 0.00318186,\n",
       "       0.00341838, 0.00472906, 0.00446403, 0.00433473, 0.00339315,\n",
       "       0.00340723, 0.00541175, 0.00536328, 0.00516066, 0.00460151,\n",
       "       0.00669772, 0.00451578, 0.00770674, 0.00551156, 0.00624851,\n",
       "       0.00617808, 0.00473086, 0.00619584, 0.00630425, 0.00871047,\n",
       "       0.00514396, 0.00821221, 0.00666114, 0.00600745, 0.00682998,\n",
       "       0.00935224, 0.00879873, 0.00830928, 0.01148132, 0.01069054,\n",
       "       0.00895091, 0.01175387, 0.01058964, 0.00967857])"
      ]
     },
     "execution_count": 88,
     "metadata": {},
     "output_type": "execute_result"
    }
   ],
   "source": [
    "err2"
   ]
  },
  {
   "cell_type": "code",
   "execution_count": 31,
   "metadata": {},
   "outputs": [
    {
     "data": {
      "text/plain": [
       "25.205352020361648"
      ]
     },
     "execution_count": 31,
     "metadata": {},
     "output_type": "execute_result"
    }
   ],
   "source": [
    "np.log(2)/0.0275"
   ]
  },
  {
   "cell_type": "code",
   "execution_count": null,
   "metadata": {},
   "outputs": [],
   "source": []
  }
 ],
 "metadata": {
  "kernelspec": {
   "display_name": "Python 3",
   "language": "python",
   "name": "python3"
  },
  "language_info": {
   "codemirror_mode": {
    "name": "ipython",
    "version": 3
   },
   "file_extension": ".py",
   "mimetype": "text/x-python",
   "name": "python",
   "nbconvert_exporter": "python",
   "pygments_lexer": "ipython3",
   "version": "3.6.8"
  }
 },
 "nbformat": 4,
 "nbformat_minor": 2
}
