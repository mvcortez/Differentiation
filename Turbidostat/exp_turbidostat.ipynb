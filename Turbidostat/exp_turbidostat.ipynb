{
 "cells": [
  {
   "cell_type": "code",
   "execution_count": 3,
   "metadata": {},
   "outputs": [],
   "source": [
    "import numpy as np\n",
    "import matplotlib.pyplot as plt\n",
    "import seaborn as sns\n",
    "from scipy.stats import uniform\n",
    "from scipy.stats import norm\n",
    "import pymc3\n",
    "import pandas as pd\n",
    "from numba import jit\n",
    "from scipy.integrate import solve_ivp"
   ]
  },
  {
   "cell_type": "code",
   "execution_count": 39,
   "metadata": {},
   "outputs": [],
   "source": [
    "@jit\n",
    "def cell(t,g,init_x):\n",
    "    c = np.log(init_x)-g*t[0]\n",
    "    expo = g*t+c \n",
    "    return np.exp(expo)\n",
    "\n",
    "@jit\n",
    "def mse(x,y):\n",
    "    diff=(x-y)**2\n",
    "    return (1./len(diff))*np.sum(diff)\n",
    "\n",
    "@jit\n",
    "def mae(x,y):\n",
    "    diff=abs(x-y)\n",
    "    return (1./len(diff))*np.sum(diff)"
   ]
  },
  {
   "cell_type": "code",
   "execution_count": 96,
   "metadata": {},
   "outputs": [
    {
     "data": {
      "image/png": "[encoded data removed]",
      "text/plain": [
       "<Figure size 360x216 with 1 Axes>"
      ]
     },
     "metadata": {
      "needs_background": "light"
     },
     "output_type": "display_data"
    }
   ],
   "source": [
    "NT=1\n",
    "col=1\n",
    "x_data=pd.read_csv(\"NT10.csv\").values\n",
    "x_clean=np.delete(x_data,np.where(x_data[:,1]<0),axis=0)\n",
    "st_index= np.min(np.where(x_clean[:,col]>0))\n",
    "fin_index = np.min(np.where(x_clean[:,col]>NT))\n",
    "\n",
    "x = x_clean[st_index:fin_index,col]\n",
    "t = x_clean[st_index:fin_index,0]/60.0\n",
    "\n",
    "g = plt.figure(figsize=(5,3))\n",
    "plt.scatter(t,x)\n",
    "plt.xlabel('Time (hr)')\n",
    "plt.ylabel(r'$OD$')\n",
    "plt.tight_layout()"
   ]
  },
  {
   "cell_type": "code",
   "execution_count": 97,
   "metadata": {},
   "outputs": [
    {
     "name": "stdout",
     "output_type": "stream",
     "text": [
      "0 0.014049947887602133 0.0425694745511954\n",
      "50 0.014498873425457389 0.055241857661534485\n",
      "100 0.0016703399418080724 0.07863416231558375\n",
      "150 0.01910959775267992 0.3723443495119075\n",
      "0.03099603514018605\n",
      "0 0.006155450571881085 0.026337426922616022\n",
      "50 0.0058539074277703836 0.029453424226836587\n",
      "100 0.008705238696307516 0.005721440837962065\n",
      "150 0.006195843699446828 0.02592798452883856\n",
      "0.0034919509333470817\n",
      "0 0.009792323904858175 0.0016635438648345182\n",
      "50 0.009231339945157024 0.003291840477399627\n",
      "100 0.009327883473202575 0.0029367847090571424\n",
      "150 0.009451748946796873 0.0025254006279278457\n",
      "0.0014660480996154892\n",
      "0 0.010613649401338581 0.0014099185631427607\n",
      "50 0.009960316907557831 0.0013923753238758768\n",
      "100 0.0103808648111866 0.0011978643695890181\n",
      "150 0.010315208736941596 0.0011805130124538966\n",
      "0.0012089845190498302\n",
      "0 0.010226470053365855 0.0011857699491817913\n",
      "50 0.010223854292161483 0.0011864188433405322\n",
      "100 0.010306994787120358 0.0011796225377296813\n",
      "150 0.010386859819095194 0.0012003613422821716\n",
      "200 0.010218933532540195 0.0011877155562732703\n",
      "250 0.01024017422486529 0.0011828296205098371\n",
      "300 0.01030473068938571 0.001179426813945746\n",
      "350 0.01032199140486545 0.0011814618531276544\n",
      "400 0.010306693248693962 0.0011795952311795554\n",
      "450 0.010398942769649588 0.0012058614548077313\n",
      "0.001183328949270781\n",
      "0 0.010313649030100852 0.0011803221527030645\n",
      "50 0.010315150435814983 0.0011805056944504528\n",
      "100 0.010306752706116574 0.0011796005853382699\n",
      "150 0.010304544446948418 0.0011794116696016855\n",
      "200 0.010321703110780093 0.0011814175876597721\n",
      "250 0.01032190793071752 0.001181449000318961\n",
      "300 0.0103069893877934 0.0011796220454306226\n",
      "350 0.010305770037129054 0.0011795139960629555\n",
      "400 0.010307420583939493 0.0011796617456401699\n",
      "450 0.010311746129178482 0.0011801031244022665\n",
      "0.001179601049429384\n",
      "0 0.010304728036511637 0.0011794265972069591\n",
      "50 0.010304742453222339 0.0011794277754017452\n",
      "100 0.010306550685347287 0.001179582453641337\n",
      "150 0.010304717186770928 0.0011794257110940896\n",
      "200 0.010306016224398638 0.0011795353094263532\n",
      "250 0.010305782988902647 0.0011795151110201192\n",
      "300 0.010306576493469456 0.0011795847604360481\n",
      "350 0.010304645153216305 0.0011794198405178646\n",
      "400 0.010306341881133814 0.0011795638928157489\n",
      "450 0.010306049593991099 0.0011795382178969819\n",
      "0.0011794295759158708\n",
      "0 0.010304739967043668 0.0011794275721585686\n",
      "50 0.01030473548167798 0.001179427205548873\n",
      "100 0.010304670039147685 0.001179421866209856\n",
      "150 0.010304723312625557 0.0011794262113402605\n",
      "200 0.010304754492172993 0.0011794287599427653\n",
      "250 0.010304388381689811 0.001179399090972885\n",
      "300 0.01030473502663 0.001179427168360404\n",
      "350 0.010304753439116283 0.0011794286737999476\n",
      "400 0.010304492172034215 0.0011794074449614689\n",
      "450 0.010304731166144172 0.001179426852899851\n",
      "0.0011794194669098085\n",
      "0 0.010304388383558918 0.001179399091122923\n",
      "50 0.010304481378053586 0.0011794065740623537\n",
      "100 0.010304374894810495 0.0011793980087380041\n",
      "150 0.01030449297091027 0.0011794075094371977\n",
      "200 0.010304481752816667 0.0011794066042914795\n",
      "250 0.010304383183799169 0.0011793986737855596\n",
      "300 0.010304381591476494 0.0011793985460069587\n",
      "350 0.010304401369708274 0.0011794001338973157\n",
      "400 0.010304544254988968 0.0011794116540673936\n",
      "450 0.010304384596673934 0.001179398787172947\n",
      "0.001179399091005384\n",
      "0 0.015662741659868213 0.09945654692624235\n",
      "50 0.015355228094909308 0.08602068198316618\n",
      "100 0.0007395184444012193 0.0900043862486707\n",
      "150 0.0023570309857028618 0.07021822256624852\n",
      "0.019841431847297586\n",
      "0 0.01124088278892443 0.003247342159926714\n",
      "50 0.011124807666278425 0.0027590952349520513\n",
      "100 0.007491953065901615 0.014011615679759188\n",
      "150 0.009530148111976298 0.002291373912030138\n",
      "0.002428981588217905\n",
      "0 0.010530148772470046 0.0013063415757455638\n",
      "50 0.010341010241357647 0.0011851556156054538\n",
      "100 0.01019776634684361 0.0011944225742520703\n",
      "150 0.009657983931920298 0.0019549219048172308\n",
      "0.0012589337788300509\n",
      "0 0.010128967688918127 0.0012287733119028736\n",
      "50 0.010229769641506212 0.0011849914626827385\n",
      "100 0.010228855970484977 0.0011852025546483407\n",
      "150 0.010462746711679443 0.0012453400717784575\n",
      "0.0011932602105644238\n",
      "0 0.010207385155492825 0.001191147970035377\n",
      "50 0.010339566998494963 0.0011848217952432503\n",
      "100 0.010235108688005928 0.001183826518302804\n",
      "150 0.010216450620293572 0.001188407497489704\n",
      "200 0.010339597554678373 0.0011848287716366749\n",
      "250 0.010204807135014952 0.001191988611143688\n",
      "300 0.010210805896541681 0.0011900744267853126\n",
      "350 0.010346277340817922 0.0011864486187964883\n",
      "400 0.010228918835581101 0.0011851879206670533\n",
      "450 0.010222740743446285 0.0011867035972961174\n",
      "0.001185013105364575\n",
      "0 0.010339221727777695 0.0011847432393895727\n",
      "50 0.010340157511381558 0.0011849573160650215\n",
      "100 0.010231783212635957 0.0011845383568212628\n",
      "150 0.010232345529683294 0.0011844147962286056\n",
      "200 0.010235170897319958 0.0011838136352256099\n",
      "250 0.010339707899607288 0.0011848539977394113\n",
      "300 0.010235140950099421 0.0011838198350812618\n",
      "350 0.0102582155623469 0.0011801383706248495\n",
      "400 0.010257486257088416 0.001180221086721468\n",
      "450 0.01023179688545707 0.0011845353370154637\n",
      "0.001183827645117259\n",
      "0 0.010257483522318256 0.0011802214010334698\n",
      "50 0.010258501554733736 0.0011801065346733882\n",
      "100 0.010257472297183027 0.0011802226914823376\n",
      "150 0.010258164053885466 0.001180144140378814\n",
      "200 0.010235105416749483 0.0011838271961956545\n",
      "250 0.010235164580965999 0.001183814942568692\n",
      "300 0.01025755263960226 0.0011802134667504207\n",
      "350 0.010258454740758295 0.0011801117227239564\n",
      "400 0.010258124464821116 0.0011801485824340346\n",
      "450 0.01025813054014183 0.0011801479003369832\n",
      "0.0011801461523823014\n",
      "0 0.010258437126464015 0.001180113677135126\n",
      "50 0.010258455039895939 0.0011801116895439334\n",
      "100 0.010258168673611416 0.0011801436224491073\n",
      "150 0.010258234544281796 0.0011801362471189044\n",
      "200 0.010258199646739859 0.0011801401522501438\n",
      "250 0.010258200909881708 0.0011801400108132016\n",
      "300 0.010258441085789653 0.0011801132377124517\n",
      "350 0.01025845080270039 0.0011801121595635868\n",
      "400 0.01025815742373483 0.0011801448838568468\n",
      "450 0.010258448565952009 0.001180112407709472\n",
      "0.001180112026885311\n",
      "0 0.010258453095597544 0.0011801119052100204\n",
      "50 0.010258480640218342 0.0011801088513555963\n",
      "100 0.010258500031070381 0.0011801067033870973\n",
      "150 0.01025850558120362 0.0011801060888726662\n",
      "200 0.010258490110368116 0.0011801078021313448\n",
      "250 0.010258474983692282 0.0011801094782348752\n",
      "300 0.010258452887719646 0.0011801119282692449\n",
      "350 0.010258489378133262 0.0011801078832444447\n",
      "400 0.010258506788266635 0.0011801059552427246\n",
      "450 0.010258494244868157 0.0011801073441749417\n",
      "0.0011801073430042267\n"
     ]
    }
   ],
   "source": [
    "#### ABC Population monte carlo sampling\n",
    "####perform ABC here with MSE\n",
    "L=[200,200,200,200,500,500,500,500,500]\n",
    "#L=[200,200,200]\n",
    "\n",
    "iteration=len(L)\n",
    "\n",
    "#uniform distribution parameters\n",
    "g_a=0\n",
    "g_b=0.02\n",
    "\n",
    "T=t[-1]\n",
    "sig_array=0.005  #g\n",
    "typ='Gaussian'\n",
    "distance=mse\n",
    "skip=50\n",
    "\n",
    "est = np.zeros(L[-1])\n",
    "for idx in range(2):\n",
    "    g=np.zeros([L[len(L)-1],iteration])  #estimates\n",
    "    var_g=np.zeros(iteration)            #sample variance\n",
    "    w=np.zeros([L[len(L)-1],iteration])  #sample weight \n",
    "    epsilon=np.zeros(iteration+1)\n",
    "    epsilon[0]=1\n",
    "    for k in range(iteration):  #particle filter iteration\n",
    "        i=0\n",
    "        score=np.zeros(L[k])\n",
    "        while i<L[k]:\n",
    "            y_prop=np.zeros(len(t))\n",
    "            if k==0:\n",
    "                prop_g=np.random.uniform(g_a,g_b)\n",
    "                y_prop=cell(t,prop_g,x[0])\n",
    "                s=distance(x,y_prop)\n",
    "                #print(s)\n",
    "                if s<epsilon[k]:\n",
    "                    score[i]=s\n",
    "                    g[i,k]=prop_g\n",
    "                    w[i,k]=1./L[k]\n",
    "                    if i%skip==0:\n",
    "                        print(i,g[i,k],s)\n",
    "                    i+=1   \n",
    "            else:\n",
    "                prop_index = np.random.choice(L[k-1],p=w[:L[k-1],k-1]/np.sum(w[:L[k-1],k-1]))\n",
    "                prop_var = var_g[k-1] \n",
    "                prop_mu = g[prop_index,k-1] \n",
    "                if typ=='Gaussian':\n",
    "                    rep=0\n",
    "                    while rep==0:\n",
    "                        prop_g=np.random.normal(prop_mu,prop_var)\n",
    "                        if prop_g<g_a or prop_g>g_b:\n",
    "                            rep=0\n",
    "                        else: \n",
    "                            rep=1\n",
    "                y_prop=cell(t,prop_g,x[0])\n",
    "                s=distance(x,y_prop)\n",
    "                if s<epsilon[k]:\n",
    "                    score[i]=s\n",
    "                    g[i,k]=prop_g\n",
    "                    if typ=='Gaussian':\n",
    "                        kernel_g=norm.pdf((g[:L[k-1],k-1]-prop_g)/np.sqrt(var_g[k-1]),0,1)/np.sqrt(var_g[k-1])\n",
    "                    w[i,k]=uniform.pdf(prop_g,g_a,g_b)/np.sum(np.multiply(w[:L[k-1],k-1],kernel_g))\n",
    "                    if i%skip==0:\n",
    "                        print(i,g[i,k],s)\n",
    "                    i+=1   \n",
    "        if typ==\"Gaussian\":\n",
    "            var_g[k]=2*np.var(g[:L[k],k])\n",
    "        epsilon[k+1]=np.quantile(score,0.3)\n",
    "        print(epsilon[k+1])   \n",
    "        if k == iteration-1:\n",
    "            est = g[:,iteration-1]            "
   ]
  },
  {
   "cell_type": "code",
   "execution_count": 99,
   "metadata": {},
   "outputs": [
    {
     "data": {
      "text/plain": [
       "<matplotlib.legend.Legend at 0x17f7e4c01d0>"
      ]
     },
     "execution_count": 99,
     "metadata": {},
     "output_type": "execute_result"
    },
    {
     "data": {
      "image/png": "[encoded data removed]",
      "text/plain": [
       "<Figure size 432x288 with 1 Axes>"
      ]
     },
     "metadata": {
      "needs_background": "light"
     },
     "output_type": "display_data"
    }
   ],
   "source": [
    "g_est=np.mean(est)\n",
    "#g_est=0.01\n",
    "y=cell(t,g_est,x[0])\n",
    "plt.scatter(t,y,color='b',label='Simulated')\n",
    "plt.scatter(t,x,color='r',label='NT= %1.1f' %NT)\n",
    "plt.text(t[0],0.75*NT,'g estimate = %1.4f' %g_est)\n",
    "plt.legend()\n"
   ]
  },
  {
   "cell_type": "markdown",
   "metadata": {},
   "source": [
    "# Estimate the initial condition using Linear Regression"
   ]
  },
  {
   "cell_type": "code",
   "execution_count": 73,
   "metadata": {},
   "outputs": [],
   "source": [
    "NT=1\n",
    "col=1\n",
    "x_data=pd.read_csv(\"NT10.csv\").values\n",
    "x_clean=np.delete(x_data,np.where(x_data[:,1]<0),axis=0)\n",
    "st_index= np.min(np.where(x_clean[:,col]>0))\n",
    "fin_index = np.min(np.where(x_clean[:,col]>NT))\n",
    "\n",
    "x = x_clean[st_index:fin_index,col]\n",
    "t = x_clean[st_index:fin_index,0]/60.0"
   ]
  },
  {
   "cell_type": "code",
   "execution_count": 74,
   "metadata": {},
   "outputs": [
    {
     "name": "stdout",
     "output_type": "stream",
     "text": [
      "[array([-1.33062429]), array([[0.01169846]])]\n"
     ]
    }
   ],
   "source": [
    "from sklearn.linear_model import LinearRegression\n",
    "model = LinearRegression().fit(t.reshape(-1, 1) , np.log(x).reshape(-1, 1) )\n",
    "print([model.intercept_,model.coef_])"
   ]
  },
  {
   "cell_type": "code",
   "execution_count": 75,
   "metadata": {},
   "outputs": [
    {
     "data": {
      "text/plain": [
       "<matplotlib.legend.Legend at 0x1e9faf02208>"
      ]
     },
     "execution_count": 75,
     "metadata": {},
     "output_type": "execute_result"
    },
    {
     "data": {
      "image/png": "[encoded data removed]",
      "text/plain": [
       "<Figure size 432x288 with 1 Axes>"
      ]
     },
     "metadata": {
      "needs_background": "light"
     },
     "output_type": "display_data"
    }
   ],
   "source": [
    "@jit\n",
    "def cell2(t,a,b):\n",
    "    return np.exp(a)*np.exp(b*t)\n",
    "\n",
    "y=cell2(t,model.intercept_,model.coef_)\n",
    "plt.scatter(t,y,color='b',label='Simulated')\n",
    "plt.scatter(t,x,color='r',label='NT= %1.1f' %NT)\n",
    "plt.text(t[0],0.75*NT,'g estimate = %1.4f' %model.coef_)\n",
    "plt.text(t[0],0.65*NT,'N0 estimate = %1.4f' %np.exp(model.intercept_))\n",
    "plt.legend()"
   ]
  },
  {
   "cell_type": "code",
   "execution_count": 79,
   "metadata": {},
   "outputs": [
    {
     "name": "stdout",
     "output_type": "stream",
     "text": [
      "[array([-1.82972469]), array([[0.01420734]])]\n"
     ]
    },
    {
     "data": {
      "text/plain": [
       "<matplotlib.legend.Legend at 0x1e9faf9abe0>"
      ]
     },
     "execution_count": 79,
     "metadata": {},
     "output_type": "execute_result"
    },
    {
     "data": {
      "image/png": "[encoded data removed]",
      "text/plain": [
       "<Figure size 432x288 with 1 Axes>"
      ]
     },
     "metadata": {
      "needs_background": "light"
     },
     "output_type": "display_data"
    }
   ],
   "source": [
    "NT=0.5\n",
    "col=1\n",
    "x_data=pd.read_csv(\"NT05.csv\").values\n",
    "x_clean=np.delete(x_data,np.where(x_data[:,1]<0),axis=0)\n",
    "st_index= np.min(np.where(x_clean[:,col]>0))\n",
    "fin_index = np.min(np.where(x_clean[:,col]>NT))\n",
    "\n",
    "x = x_clean[st_index:fin_index,col]\n",
    "t = x_clean[st_index:fin_index,0]/60.0\n",
    "model = LinearRegression().fit(t.reshape(-1, 1) , np.log(x).reshape(-1, 1) )\n",
    "print([model.intercept_,model.coef_])\n",
    "\n",
    "y=cell2(t,model.intercept_,model.coef_)\n",
    "plt.scatter(t,y,color='b',label='Simulated')\n",
    "plt.scatter(t,x,color='r',label='NT= %1.1f' %NT)\n",
    "plt.text(t[0],0.85*NT,'g estimate = %1.4f' %model.coef_)\n",
    "plt.text(t[0],0.8*NT,'N0 estimate = %1.4f' %np.exp(model.intercept_))\n",
    "plt.legend()"
   ]
  },
  {
   "cell_type": "markdown",
   "metadata": {},
   "source": [
    "# another method, using curve fit"
   ]
  },
  {
   "cell_type": "code",
   "execution_count": 103,
   "metadata": {},
   "outputs": [
    {
     "data": {
      "text/plain": [
       "<matplotlib.legend.Legend at 0x1e9fb526eb8>"
      ]
     },
     "execution_count": 103,
     "metadata": {},
     "output_type": "execute_result"
    },
    {
     "data": {
      "image/png": "[encoded data removed]",
      "text/plain": [
       "<Figure size 432x288 with 1 Axes>"
      ]
     },
     "metadata": {
      "needs_background": "light"
     },
     "output_type": "display_data"
    }
   ],
   "source": [
    "from scipy.optimize import curve_fit\n",
    "def cell_curve(t,g):\n",
    "    c = np.log(x[0])-g*t[0]\n",
    "    expo = g*t+c \n",
    "    return np.exp(expo)\n",
    "\n",
    "\n",
    "NT=1\n",
    "col=1\n",
    "x_data=pd.read_csv(\"NT10.csv\").values\n",
    "x_clean=np.delete(x_data,np.where(x_data[:,1]<0),axis=0)\n",
    "st_index= np.min(np.where(x_clean[:,col]>0))\n",
    "fin_index = np.min(np.where(x_clean[:,col]>NT))\n",
    "\n",
    "x = x_clean[st_index:fin_index,col]\n",
    "t = x_clean[st_index:fin_index,0]/60.0\n",
    "#y = cell_curve(x, 0.1)\n",
    "popt, pcov = curve_fit(cell_curve, t, x)\n",
    "plt.scatter(t,x,color='r',label='NT=1')\n",
    "plt.scatter(t, cell_curve(t, popt),color='b', label='Simulated')\n",
    "plt.text(t[0],0.8*NT,'g estimate = %1.4f' %popt)\n",
    "plt.legend()"
   ]
  },
  {
   "cell_type": "code",
   "execution_count": 102,
   "metadata": {},
   "outputs": [
    {
     "data": {
      "text/plain": [
       "<matplotlib.legend.Legend at 0x1e9fb4b8320>"
      ]
     },
     "execution_count": 102,
     "metadata": {},
     "output_type": "execute_result"
    },
    {
     "data": {
      "image/png": "[encoded data removed]",
      "text/plain": [
       "<Figure size 432x288 with 1 Axes>"
      ]
     },
     "metadata": {
      "needs_background": "light"
     },
     "output_type": "display_data"
    }
   ],
   "source": [
    "NT=0.5\n",
    "col=1\n",
    "x_data=pd.read_csv(\"NT05.csv\").values\n",
    "x_clean=np.delete(x_data,np.where(x_data[:,1]<0),axis=0)\n",
    "st_index= np.min(np.where(x_clean[:,col]>0))\n",
    "fin_index = np.min(np.where(x_clean[:,col]>NT))\n",
    "\n",
    "x = x_clean[st_index:fin_index,col]\n",
    "t = x_clean[st_index:fin_index,0]/60.0\n",
    "popt, pcov = curve_fit(cell_curve, t, x)\n",
    "plt.scatter(t,x,color='r',label='NT=0.5')\n",
    "plt.scatter(t, cell_curve(t, popt),color='b', label='Simulated')\n",
    "plt.text(t[0],0.8*NT,'g estimate = %1.4f' %popt)\n",
    "plt.legend()"
   ]
  },
  {
   "cell_type": "markdown",
   "metadata": {},
   "source": [
    "# With lag phase"
   ]
  },
  {
   "cell_type": "code",
   "execution_count": 2,
   "metadata": {},
   "outputs": [],
   "source": [
    "import numpy as np\n",
    "import matplotlib.pyplot as plt\n",
    "import seaborn as sns\n",
    "from scipy.stats import uniform\n",
    "from scipy.stats import norm\n",
    "import pymc3\n",
    "import pandas as pd\n",
    "from numba import jit\n",
    "from scipy.integrate import solve_ivp"
   ]
  },
  {
   "cell_type": "code",
   "execution_count": 9,
   "metadata": {},
   "outputs": [],
   "source": [
    "@jit\n",
    "def cell(t,z,g,K,q0):\n",
    "    beta= q0/(q0+np.exp(-g*t))\n",
    "    N=r*z[0]*(1-(z[0]/K))*beta\n",
    "    return N\n",
    "\n",
    "@jit\n",
    "def mse(x,y):\n",
    "    diff=(x-y)**2\n",
    "    s=np.shape(diff)\n",
    "    return (1./(s[0]*s[1]))*np.sum(diff)\n",
    "\n",
    "@jit\n",
    "def mae(x,y):\n",
    "    diff=abs(x-y)\n",
    "    s=np.shape(diff)\n",
    "    return (1./(s[0]*s[1]))*np.sum(diff)"
   ]
  },
  {
   "cell_type": "code",
   "execution_count": 10,
   "metadata": {},
   "outputs": [
    {
     "data": {
      "image/png": "[encoded data removed]",
      "text/plain": [
       "<Figure size 360x216 with 1 Axes>"
      ]
     },
     "metadata": {
      "needs_background": "light"
     },
     "output_type": "display_data"
    }
   ],
   "source": [
    "NT=0.5\n",
    "col=1\n",
    "x_data=pd.read_csv(\"NT05.csv\").values\n",
    "x_clean=np.delete(x_data,np.where(x_data[:,1]<0),axis=0)\n",
    "st_index= np.min(np.where(x_clean[:,col]>0))\n",
    "fin_index = np.min(np.where(x_clean[:,col]>NT))\n",
    "\n",
    "x = x_clean[st_index:fin_index,col]\n",
    "t = x_clean[st_index:fin_index,0]/60.0\n",
    "\n",
    "g = plt.figure(figsize=(5,3))\n",
    "\n",
    "plt.scatter(t,x,s=2)\n",
    "plt.xlabel('Time (min)')\n",
    "plt.tight_layout()"
   ]
  },
  {
   "cell_type": "code",
   "execution_count": 8,
   "metadata": {},
   "outputs": [
    {
     "ename": "NameError",
     "evalue": "name 'N' is not defined",
     "output_type": "error",
     "traceback": [
      "\u001b[1;31m---------------------------------------------------------------------------\u001b[0m",
      "\u001b[1;31mNameError\u001b[0m                                 Traceback (most recent call last)",
      "\u001b[1;32m<ipython-input-8-1d0f761cb05e>\u001b[0m in \u001b[0;36m<module>\u001b[1;34m\u001b[0m\n\u001b[0;32m     19\u001b[0m \u001b[1;33m\u001b[0m\u001b[0m\n\u001b[0;32m     20\u001b[0m \u001b[0mT\u001b[0m\u001b[1;33m=\u001b[0m\u001b[0mt\u001b[0m\u001b[1;33m[\u001b[0m\u001b[1;33m-\u001b[0m\u001b[1;36m1\u001b[0m\u001b[1;33m]\u001b[0m\u001b[1;33m\u001b[0m\u001b[1;33m\u001b[0m\u001b[0m\n\u001b[1;32m---> 21\u001b[1;33m \u001b[0minit_Nm\u001b[0m\u001b[1;33m=\u001b[0m\u001b[0mN\u001b[0m\u001b[1;33m[\u001b[0m\u001b[1;36m0\u001b[0m\u001b[1;33m,\u001b[0m\u001b[1;33m:\u001b[0m\u001b[1;33m,\u001b[0m\u001b[1;36m0\u001b[0m\u001b[1;33m]\u001b[0m\u001b[1;33m\u001b[0m\u001b[1;33m\u001b[0m\u001b[0m\n\u001b[0m\u001b[0;32m     22\u001b[0m \u001b[1;33m\u001b[0m\u001b[0m\n\u001b[0;32m     23\u001b[0m \u001b[0msig_array\u001b[0m\u001b[1;33m=\u001b[0m\u001b[1;33m[\u001b[0m\u001b[1;36m0.05\u001b[0m\u001b[1;33m,\u001b[0m\u001b[1;36m0.05\u001b[0m\u001b[1;33m,\u001b[0m\u001b[1;36m0.05\u001b[0m\u001b[1;33m,\u001b[0m\u001b[1;36m0.05\u001b[0m\u001b[1;33m]\u001b[0m  \u001b[1;31m#[rm,rd,K]\u001b[0m\u001b[1;33m\u001b[0m\u001b[1;33m\u001b[0m\u001b[0m\n",
      "\u001b[1;31mNameError\u001b[0m: name 'N' is not defined"
     ]
    }
   ],
   "source": [
    "#### ABC Population monte carlo sampling\n",
    "####perform ABC here with MSE\n",
    "#L=[200,200,200,200,500,500,500,500,500]\n",
    "L=[200,200,200,500,500,500,500,500,500]\n",
    "iteration=len(L)\n",
    "\n",
    "#samples, weights, sigma\n",
    "\n",
    "\n",
    "#uniform distribution parameters\n",
    "r_a=0\n",
    "r_b=2\n",
    "K_a=1.5\n",
    "K_b=2\n",
    "q0_a=0\n",
    "q0_b=1\n",
    "m_a=0\n",
    "m_b=5\n",
    "\n",
    "T=t[-1]\n",
    "init_Nm=N[0,:,0]\n",
    "\n",
    "sig_array=[0.05,0.05,0.05,0.05]  #[rm,rd,K]\n",
    "typ='Gaussian'\n",
    "distance=mse\n",
    "skip=50\n",
    "\n",
    "\n",
    "est = np.zeros([L[-1],4,2])\n",
    "for idx in range(2):\n",
    "    rm=np.zeros([L[len(L)-1],iteration])\n",
    "    K=np.zeros([L[len(L)-1],iteration])\n",
    "    q0=np.zeros([L[len(L)-1],iteration])\n",
    "    m=np.zeros([L[len(L)-1],iteration])\n",
    "    var_rm=np.zeros(iteration)\n",
    "    var_K=np.zeros(iteration)\n",
    "    var_q0=np.zeros(iteration)\n",
    "    var_m=np.zeros(iteration)\n",
    "    w=np.zeros([L[len(L)-1],iteration])\n",
    "    epsilon=np.zeros(iteration+1)\n",
    "    epsilon[0]=1\n",
    "    for k in range(iteration):  #particle filter iteration\n",
    "        i=0\n",
    "        score=np.zeros(L[k])\n",
    "        while i<L[k]:\n",
    "            y_prop=np.zeros([len(t),3])\n",
    "            prop=np.zeros(4)  #remove for gaussian\n",
    "            if k==0:\n",
    "                prop_rm=np.random.uniform(r_a,r_b)\n",
    "                prop_K=np.random.uniform(K_a,K_b)  \n",
    "                prop_q0=np.random.uniform(q0_a,q0_b)\n",
    "                prop_m=np.random.uniform(m_a,m_b)  \n",
    "                for j in range(3):\n",
    "                    sol = solve_ivp(lambda t, z: cell(t, z,prop_rm,prop_K,prop_q0,prop_m), [0, T], [init_Nm[j]],dense_output=True)\n",
    "                    y_prop[:,j] =np.ndarray.flatten(sol.sol(t))\n",
    "                s=distance(N[:,:,idx],y_prop)\n",
    "                #print(s)\n",
    "                if s<epsilon[k]:\n",
    "                    score[i]=s\n",
    "                    rm[i,k]=prop_rm\n",
    "                    K[i,k]=prop_K  \n",
    "                    q0[i,k]=prop_q0\n",
    "                    m[i,k]=prop_m  \n",
    "                    w[i,k]=1./L[k]\n",
    "                    if i%skip==0:\n",
    "                        print(i,k,rm[i,k],K[i,k],q0[i,k],m[i,k],s)\n",
    "                    i+=1   \n",
    "            else:\n",
    "                prop_index = np.random.choice(L[k-1],p=w[:L[k-1],k-1]/np.sum(w[:L[k-1],k-1]))\n",
    "                prop_var = np.diag([var_rm[k-1],var_K[k-1],var_q0[k-1],var_m[k-1]]) \n",
    "                prop_mu = np.array([rm[prop_index,k-1],K[prop_index,k-1],q0[prop_index,k-1],m[prop_index,k-1]]) \n",
    "                summ=-1\n",
    "                while summ<2:\n",
    "                    if typ=='Gaussian':\n",
    "                        rep=0\n",
    "                        while rep==0:\n",
    "                            prop=np.random.multivariate_normal(prop_mu,prop_var)\n",
    "                            if prop[0]>r_b or prop[2]>q0_b or prop[3]>m_b or prop[1]>K_b or prop[1]<K_a or prop[0]<r_a or prop[2]<q0_a or prop[3]<m_a:\n",
    "                                rep=0\n",
    "                            else: \n",
    "                                rep=1\n",
    "                    else:\n",
    "                        for kk in range(4):\n",
    "                            prop[kk]=prop_mu[kk]+sig_array[kk]*np.random.uniform(-1,1) \n",
    "                    dummy=prop>0\n",
    "                    summ=np.sum(dummy)\n",
    "                #print(prop)\n",
    "                for j in range(3):\n",
    "                    sol = solve_ivp(lambda t, z: cell(t, z,prop[0],prop[1],prop[2],prop[3]), [0, T], [init_Nm[j]],dense_output=True)\n",
    "                    y_prop[:,j] =np.ndarray.flatten(sol.sol(t))\n",
    "                s=distance(N[:,:,idx],y_prop)\n",
    "                #print(s)\n",
    "                if s<epsilon[k]:\n",
    "                    score[i]=s\n",
    "                    rm[i,k]=prop[0]\n",
    "                    K[i,k]=prop[1]  \n",
    "                    q0[i,k]=prop[2]\n",
    "                    m[i,k]=prop[3]  \n",
    "                    if typ=='Gaussian':\n",
    "                        kernel_rm=norm.pdf((rm[:L[k-1],k-1]-prop[0])/np.sqrt(var_rm[k-1]),0,1)/np.sqrt(var_rm[k-1])\n",
    "                        kernel_K=norm.pdf((K[:L[k-1],k-1]-prop[1])/np.sqrt(var_K[k-1]),0,1)/np.sqrt(var_K[k-1])\n",
    "                        kernel_q0=norm.pdf((q0[:L[k-1],k-1]-prop[2])/np.sqrt(var_q0[k-1]),0,1)/np.sqrt(var_q0[k-1])\n",
    "                        kernel_m=norm.pdf((m[:L[k-1],k-1]-prop[3])/np.sqrt(var_m[k-1]),0,1)/np.sqrt(var_m[k-1])\n",
    "                    else:\n",
    "                        kernel_rm=uniform.pdf(prop[0],-1*sig_array[0]+prop_mu[0],1*sig_array[0]+prop_mu[0])\n",
    "                        kernel_K=uniform.pdf(prop[1],-1*sig_array[1]+prop_mu[1],1*sig_array[1]+prop_mu[1])\n",
    "                        kernel_q0=uniform.pdf(prop[2],-1*sig_array[2]+prop_mu[2],1*sig_array[2]+prop_mu[2])\n",
    "                        kernel_m=uniform.pdf(prop[3],-1*sig_array[3]+prop_mu[3],1*sig_array[3]+prop_mu[3])\n",
    "                        \n",
    "                    w[i,k]=(uniform.pdf(prop[0],r_a,r_b)*uniform.pdf(prop[1],K_a,K_b)*uniform.pdf(prop[2],q0_a,q0_b)*uniform.pdf(prop[3],m_a,m_b))/np.sum(np.multiply(w[:L[k-1],k-1],kernel_rm*kernel_K*kernel_q0*kernel_m))\n",
    "                    #print('done')\n",
    "                    if i%skip==0:\n",
    "                        print(i,k,rm[i,k],K[i,k],q0[i,k],m[i,k],s)\n",
    "                    i+=1   \n",
    "        if typ==\"Gaussian\":\n",
    "            var_rm[k]=2*np.var(rm[:L[k],k])\n",
    "            var_K[k]=2*np.var(K[:L[k],k])  \n",
    "            var_q0[k]=2*np.var(q0[:L[k],k])\n",
    "            var_m[k]=2*np.var(m[:L[k],k])  \n",
    "        epsilon[k+1]=np.quantile(score,0.3)\n",
    "        print(epsilon[k+1])   \n",
    "        \n",
    "        if k == iteration-1:\n",
    "            est[:,0,idx] = rm[:,iteration-1]\n",
    "            est[:,1,idx] = K[:,iteration-1]\n",
    "            est[:,2,idx] = q0[:,iteration-1]\n",
    "            est[:,3,idx] = m[:,iteration-1]"
   ]
  },
  {
   "cell_type": "code",
   "execution_count": null,
   "metadata": {},
   "outputs": [],
   "source": []
  }
 ],
 "metadata": {
  "kernelspec": {
   "display_name": "Python 3",
   "language": "python",
   "name": "python3"
  },
  "language_info": {
   "codemirror_mode": {
    "name": "ipython",
    "version": 3
   },
   "file_extension": ".py",
   "mimetype": "text/x-python",
   "name": "python",
   "nbconvert_exporter": "python",
   "pygments_lexer": "ipython3",
   "version": "3.6.8"
  }
 },
 "nbformat": 4,
 "nbformat_minor": 2
}
